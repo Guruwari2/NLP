{
 "cells": [
  {
   "cell_type": "markdown",
   "id": "50ee7a00-7edb-460c-a38f-f26d09eb0122",
   "metadata": {
    "tags": []
   },
   "source": [
    "# Installations and Import"
   ]
  },
  {
   "cell_type": "code",
   "execution_count": 1,
   "id": "43dd4be8-dfbc-4e6b-8ae0-355ce2552acd",
   "metadata": {},
   "outputs": [
    {
     "name": "stdout",
     "output_type": "stream",
     "text": [
      "Defaulting to user installation because normal site-packages is not writeable\n",
      "Requirement already satisfied: lexrank in /home/chinois/.local/lib/python3.10/site-packages (0.1.0)\n",
      "Requirement already satisfied: transformers in /home/chinois/.local/lib/python3.10/site-packages (4.37.0)\n",
      "Requirement already satisfied: nltk in /home/chinois/.local/lib/python3.10/site-packages (3.8.1)\n",
      "Requirement already satisfied: pyrsistent>=0.14.0 in /home/chinois/.local/lib/python3.10/site-packages (from lexrank) (0.18.1)\n",
      "Requirement already satisfied: path.py>=10.5 in /home/chinois/.local/lib/python3.10/site-packages (from lexrank) (12.5.0)\n",
      "Requirement already satisfied: urlextract>=0.7 in /home/chinois/.local/lib/python3.10/site-packages (from lexrank) (1.8.0)\n",
      "Requirement already satisfied: regex>=2017.11.9 in /home/chinois/.local/lib/python3.10/site-packages (from lexrank) (2023.12.25)\n",
      "Requirement already satisfied: scipy>=0.19.0 in /home/chinois/.local/lib/python3.10/site-packages (from lexrank) (1.11.2)\n",
      "Requirement already satisfied: numpy>=1.13.3 in /home/chinois/.local/lib/python3.10/site-packages (from lexrank) (1.23.1)\n",
      "Requirement already satisfied: packaging>=20.0 in /home/chinois/.local/lib/python3.10/site-packages (from transformers) (21.3)\n",
      "Requirement already satisfied: tqdm>=4.27 in /home/chinois/.local/lib/python3.10/site-packages (from transformers) (4.65.0)\n",
      "Requirement already satisfied: filelock in /home/chinois/.local/lib/python3.10/site-packages (from transformers) (3.12.2)\n",
      "Requirement already satisfied: tokenizers<0.19,>=0.14 in /home/chinois/.local/lib/python3.10/site-packages (from transformers) (0.15.1)\n",
      "Requirement already satisfied: pyyaml>=5.1 in /usr/lib/python3/dist-packages (from transformers) (5.4.1)\n",
      "Requirement already satisfied: requests in /usr/lib/python3/dist-packages (from transformers) (2.25.1)\n",
      "Requirement already satisfied: safetensors>=0.3.1 in /home/chinois/.local/lib/python3.10/site-packages (from transformers) (0.4.1)\n",
      "Requirement already satisfied: huggingface-hub<1.0,>=0.19.3 in /home/chinois/.local/lib/python3.10/site-packages (from transformers) (0.20.3)\n",
      "Requirement already satisfied: click in /usr/lib/python3/dist-packages (from nltk) (8.0.3)\n",
      "Requirement already satisfied: joblib in /home/chinois/.local/lib/python3.10/site-packages (from nltk) (1.3.2)\n",
      "Requirement already satisfied: fsspec>=2023.5.0 in /home/chinois/.local/lib/python3.10/site-packages (from huggingface-hub<1.0,>=0.19.3->transformers) (2023.6.0)\n",
      "Requirement already satisfied: typing-extensions>=3.7.4.3 in /home/chinois/.local/lib/python3.10/site-packages (from huggingface-hub<1.0,>=0.19.3->transformers) (4.6.3)\n",
      "Requirement already satisfied: pyparsing!=3.0.5,>=2.0.2 in /usr/lib/python3/dist-packages (from packaging>=20.0->transformers) (2.4.7)\n",
      "Requirement already satisfied: path in /home/chinois/.local/lib/python3.10/site-packages (from path.py>=10.5->lexrank) (16.9.0)\n",
      "Requirement already satisfied: uritools in /home/chinois/.local/lib/python3.10/site-packages (from urlextract>=0.7->lexrank) (4.0.2)\n",
      "Requirement already satisfied: platformdirs in /usr/local/lib/python3.10/dist-packages (from urlextract>=0.7->lexrank) (3.8.0)\n",
      "Requirement already satisfied: idna in /usr/lib/python3/dist-packages (from urlextract>=0.7->lexrank) (3.3)\n",
      "Defaulting to user installation because normal site-packages is not writeable\n",
      "Requirement already satisfied: rouge in /home/chinois/.local/lib/python3.10/site-packages (1.0.1)\n",
      "Requirement already satisfied: six in /usr/lib/python3/dist-packages (from rouge) (1.16.0)\n"
     ]
    }
   ],
   "source": [
    "!pip install lexrank transformers nltk\n",
    "!pip install rouge"
   ]
  },
  {
   "cell_type": "code",
   "execution_count": 2,
   "id": "3333ce36-5275-4e01-a719-21e16045faf9",
   "metadata": {},
   "outputs": [],
   "source": [
    "# For data processing\n",
    "import numpy as np\n",
    "import pandas as pd\n",
    "\n",
    "import seaborn as sns\n",
    "import matplotlib.pyplot as plt\n",
    "\n",
    "import os\n",
    "from glob import glob\n",
    "from tqdm import tqdm, tqdm_notebook\n",
    "\n",
    "import gc\n",
    "\n",
    "import warnings\n",
    "warnings.filterwarnings(\"ignore\")\n"
   ]
  },
  {
   "cell_type": "code",
   "execution_count": 3,
   "id": "910130d3-b37a-43e8-bfb7-3da9e3957b47",
   "metadata": {},
   "outputs": [],
   "source": [
    "from transformers import AutoModelForSeq2SeqLM, AutoTokenizer, AutoModelWithLMHead\n",
    "import torch\n",
    "import time"
   ]
  },
  {
   "cell_type": "code",
   "execution_count": 4,
   "id": "549db133-15fb-4597-ae86-1584f003bf65",
   "metadata": {},
   "outputs": [
    {
     "name": "stdout",
     "output_type": "stream",
     "text": [
      "4.37.0\n"
     ]
    }
   ],
   "source": [
    "import transformers\n",
    "print(transformers.__version__)"
   ]
  },
  {
   "cell_type": "markdown",
   "id": "f87eacfc-6de3-4216-b151-110709f80ce7",
   "metadata": {
    "tags": []
   },
   "source": [
    "# Preprocessing of data"
   ]
  },
  {
   "cell_type": "code",
   "execution_count": 5,
   "id": "8f3fc373-c484-4d0c-862f-9aabe88a4133",
   "metadata": {},
   "outputs": [
    {
     "name": "stdout",
     "output_type": "stream",
     "text": [
      "['entertainment', 'politics', 'sport', 'business', 'tech']\n",
      "['entertainment', 'politics', 'sport', 'business', 'tech']\n"
     ]
    }
   ],
   "source": [
    "root_dir = 'BBCNewSummary/BBC News Summary/News Articles'\n",
    "sum_dir = 'BBCNewSummary/BBC News Summary/Summaries'\n",
    "\n",
    "print(os.listdir(root_dir))\n",
    "print(os.listdir(sum_dir))"
   ]
  },
  {
   "cell_type": "code",
   "execution_count": 6,
   "id": "011694e9-3893-47ed-a7d8-d5d466db74e0",
   "metadata": {},
   "outputs": [
    {
     "name": "stderr",
     "output_type": "stream",
     "text": [
      "100%|\u001b[33m█████████████████████████████████████████████\u001b[0m| 5/5 [00:00<00:00, 91.12it/s]\u001b[0m"
     ]
    },
    {
     "name": "stdout",
     "output_type": "stream",
     "text": [
      "Total Articles:  2225\n",
      "Sample Article: \n",
      "Dame Julie pops in to see Poppins\n",
      "\n",
      "Mary Poppins star Dame Julie Andrews watched the hit stage version of her classic film at a charity performance in London's West End.\n",
      "\n",
      "It was the first time Dame Julie, who shot to fame as the nanny in the 1964 Disney movie, had seen the musical, staged at the Prince Edward Theatre. She watched Laura Michelle Kelly, 23, reprise the role on stage. The show has been one of the West End's hottest tickets since opening in December, winning two Olivier Awards. Kelly was named best musical actress at last month's ceremony and the musical also won best choreography.\n",
      "\n",
      "But Kelly said she was \"very nervous\" about meeting Dame Julie because she was \"my absolute hero\". The gala performance saw Dame Julie, 69, return to the theatre where she had her first starring role in a performance of Humpty Dumpty in 1948. The Mary Poppins musical has been masterminded by theatre impresario Sir Cameron Mackintosh and directed by Richard Eyre with choreography by Matthew Bourne. Sir Cameron said he hoped the production, which cost £9m to bring to the stage, was a blend of the sweet-natured film and the original book by PL Travers. Proceeds from Thursday's show will go to charities including Absolute Return for Kids (Ark), international relief agency Operation USA and drama school Lamda.\n",
      "\n"
     ]
    },
    {
     "name": "stderr",
     "output_type": "stream",
     "text": [
      "\n"
     ]
    }
   ],
   "source": [
    "unique_category = os.listdir(root_dir)\n",
    "\n",
    "# List to store the category names\n",
    "news_summary_list = []\n",
    "\n",
    "# List to store the news articles\n",
    "news_article_list = []\n",
    "\n",
    "# Iterate through unique category\n",
    "for category in tqdm(unique_category, colour='yellow'):\n",
    "    # Get the absolute path of that category directory\n",
    "    abs_category_path = root_dir + \"/\" + category\n",
    "    \n",
    "    # Create a query to get the absolute path of all the .txt files\n",
    "    query = abs_category_path + \"/*.txt\"\n",
    "    \n",
    "    # Get the list of absolute path of all the files\n",
    "    file_paths = glob(query)\n",
    "    \n",
    "    # Iterate through all the .txt files path\n",
    "    for file_path in file_paths:\n",
    "        \n",
    "        try:\n",
    "            # Open the file\n",
    "            f = open(file_path, 'r')\n",
    "            # Read the file contents\n",
    "            news_article = f.read()\n",
    "            # Close the file\n",
    "            f.close()\n",
    "        except:\n",
    "            # Open the file\n",
    "            f = open(file_path, 'rb')\n",
    "            # Read the file contents\n",
    "            news_article = f.read()\n",
    "            # Close the file\n",
    "            f.close()\n",
    "            \n",
    "        # Append new articles and category to respective list\n",
    "        news_article_list.append(news_article)\n",
    "        \n",
    "# Print length of news articles and categories\n",
    "print(\"Total Articles: \", len(news_article_list))\n",
    "\n",
    "# Print a sample article\n",
    "print(\"Sample Article: \")\n",
    "print(news_article_list[0])"
   ]
  },
  {
   "cell_type": "code",
   "execution_count": 7,
   "id": "76ce39b3-cdf6-4ce6-9145-0f261b497676",
   "metadata": {},
   "outputs": [],
   "source": [
    "news_article_list[1254] = 'Chelsea sack Mutu\\n\\nChelsea have sacked Adrian Mutu after he failed a drugs test.\\n\\nThe 25-year-old tested positive for a banned substance - which he later denied was cocaine - in October. Chelsea have decided to write off a possible transfer fee for Mutu, a \\xa315.8m signing from Parma last season, who may face a two-year suspension. A statement from Chelsea explaining the decision read:\"We want to make clear that Chelsea has a zero tolerance policy towards drugs.\" Mutu scored six goals in his first five games after arriving at Stamford Bridge but his form went into decline and he was frozen out by coach Jose Mourinho. Chelsea\\'s statement added: \"This applies to both performance-enhancing drugs or so-called \\'recreational\\' drugs. They have no place at our club or in sport. \"In coming to a decision on this case, Chelsea believed the club\\'s social responsibility to its fans, players, employees and other stakeholders in football regarding drugs was more important than the major financial considerations to the company. \"Any player who takes drugs breaches his contract with the club as well as Football Association rules. \"The club totally supports the FA in strong action on all drugs cases.\" Fifa\\'s disciplinary code stipulates that a first doping offence should be followed by a six-month ban. And the sport\\'s world governing body has re-iterated their stance over Mutu\\'s failed drugs test, maintaining it is a matter for the domestic sporting authorities. \"Fifa is not in a position to make any comment on the matter until the English FA have informed us of their disciplinary decision and the relevant information associated with it,\" said a Fifa spokesman. Chelsea\\'s move won backing from drug-testing expert Michelle Verroken. Verroken, a former director of drug-free sport for UK Sport, insists the Blues were right to sack Mutu and have enhanced their reputation by doing so. \"Chelsea are saying quite clearly to the rest of their players and their fans that this is a situation they are not prepared to tolerate. \"It was a very difficult decision for them and an expensive decision for them but the terms of his contract were breached and it was the only decision they could make. \"It is a very clear stance by Chelsea and it has given a strong boost to the reputation of the club.\" It emerged that Mutu had failed a drugs test on October 18 and, although it was initially reported that the banned substance in question was cocaine. The Romanian international later suggested it was a substance designed to enhance sexual performance. The Football Association has yet to act on Mutu\\'s failed drugs test and refuses to discuss his case.\\n'"
   ]
  },
  {
   "cell_type": "code",
   "execution_count": 8,
   "id": "97cfb6ff-1f68-4111-a2f5-fd9701db4011",
   "metadata": {},
   "outputs": [],
   "source": [
    "sum_dir = 'BBCNewSummary/BBC News Summary/Summaries'\n"
   ]
  },
  {
   "cell_type": "code",
   "execution_count": 9,
   "id": "52704f8e-f511-42cd-9572-133e11259943",
   "metadata": {},
   "outputs": [
    {
     "name": "stderr",
     "output_type": "stream",
     "text": [
      "100%|\u001b[33m█████████████████████████████████████████████\u001b[0m| 5/5 [00:00<00:00, 99.91it/s]\u001b[0m"
     ]
    },
    {
     "name": "stdout",
     "output_type": "stream",
     "text": [
      "Total Articles:  2225\n",
      "Total summaries:  2225\n",
      "\n",
      "Sample Article: \n",
      "Dame Julie pops in to see Poppins\n",
      "\n",
      "Mary Poppins star Dame Julie Andrews watched the hit stage version of her classic film at a charity performance in London's West End.\n",
      "\n",
      "It was the first time Dame Julie, who shot to fame as the nanny in the 1964 Disney movie, had seen the musical, staged at the Prince Edward Theatre. She watched Laura Michelle Kelly, 23, reprise the role on stage. The show has been one of the West End's hottest tickets since opening in December, winning two Olivier Awards. Kelly was named best musical actress at last month's ceremony and the musical also won best choreography.\n",
      "\n",
      "But Kelly said she was \"very nervous\" about meeting Dame Julie because she was \"my absolute hero\". The gala performance saw Dame Julie, 69, return to the theatre where she had her first starring role in a performance of Humpty Dumpty in 1948. The Mary Poppins musical has been masterminded by theatre impresario Sir Cameron Mackintosh and directed by Richard Eyre with choreography by Matthew Bourne. Sir Cameron said he hoped the production, which cost £9m to bring to the stage, was a blend of the sweet-natured film and the original book by PL Travers. Proceeds from Thursday's show will go to charities including Absolute Return for Kids (Ark), international relief agency Operation USA and drama school Lamda.\n",
      "\n",
      "Sample summary: \n",
      "But Kelly said she was \"very nervous\" about meeting Dame Julie because she was \"my absolute hero\".Mary Poppins star Dame Julie Andrews watched the hit stage version of her classic film at a charity performance in London's West End.It was the first time Dame Julie, who shot to fame as the nanny in the 1964 Disney movie, had seen the musical, staged at the Prince Edward Theatre.The gala performance saw Dame Julie, 69, return to the theatre where she had her first starring role in a performance of Humpty Dumpty in 1948.\n"
     ]
    },
    {
     "name": "stderr",
     "output_type": "stream",
     "text": [
      "\n"
     ]
    }
   ],
   "source": [
    "unique_category = os.listdir(sum_dir)\n",
    "\n",
    "# List to store the category names\n",
    "news_summary_list = []\n",
    "\n",
    "\n",
    "# Iterate through unique category\n",
    "for category in tqdm(unique_category, colour='yellow'):\n",
    "    # Get the absolute path of that category directory\n",
    "    abs_category_path = sum_dir + \"/\" + category\n",
    "    \n",
    "    # Create a query to get the absolute path of all the .txt files\n",
    "    query = abs_category_path + \"/*.txt\"\n",
    "    \n",
    "    # Get the list of absolute path of all the files\n",
    "    file_paths = glob(query)\n",
    "    \n",
    "    # Iterate through all the .txt files path\n",
    "    for file_path in file_paths:\n",
    "        \n",
    "        try:\n",
    "            # Open the file\n",
    "            f = open(file_path, 'r')\n",
    "            # Read the file contents\n",
    "            news_summary = f.read()\n",
    "            # Close the file\n",
    "            f.close()\n",
    "        except:\n",
    "            # Open the file\n",
    "            f = open(file_path, 'rb')\n",
    "            # Read the file contents\n",
    "            news_summary = f.read()\n",
    "            # Close the file\n",
    "            f.close()\n",
    "            \n",
    "        # Append new articles and category to respective list\n",
    "        news_summary_list.append(news_summary)\n",
    "        \n",
    "# Print length of news articles and categories\n",
    "print(\"Total Articles: \", len(news_article_list))\n",
    "print(\"Total summaries: \", len(news_summary_list), end='\\n\\n')\n",
    "\n",
    "# Print a sample article\n",
    "print(\"Sample Article: \")\n",
    "print(news_article_list[0])\n",
    "\n",
    "# Print a sample article\n",
    "print(\"Sample summary: \")\n",
    "print(news_summary_list[0])"
   ]
  },
  {
   "cell_type": "code",
   "execution_count": 10,
   "id": "91ffe934-53c6-4319-9e0b-e962940cb2a1",
   "metadata": {},
   "outputs": [],
   "source": [
    "for index, article in enumerate(news_article_list):\n",
    "    if not isinstance(article, str):\n",
    "        print(f\"article {index} is not of type str\")\n",
    "        \n",
    "for index, article in enumerate(news_summary_list):\n",
    "    if not isinstance(article, str):\n",
    "        print(f\"article {index} is not of type str\")"
   ]
  },
  {
   "cell_type": "markdown",
   "id": "404b7f6b-d79b-40db-8e3a-117da2767e9b",
   "metadata": {
    "jp-MarkdownHeadingCollapsed": true,
    "tags": []
   },
   "source": [
    "# BERT Model\n"
   ]
  },
  {
   "cell_type": "code",
   "execution_count": 22,
   "id": "496987d2-ebfb-4809-aa5e-4c46c3fe1b1a",
   "metadata": {},
   "outputs": [
    {
     "name": "stderr",
     "output_type": "stream",
     "text": [
      "config.json: 100%|█████████████████████████████| 570/570 [00:00<00:00, 2.16MB/s]\n",
      "model.safetensors: 100%|█████████████████████| 436M/436M [00:56<00:00, 7.65MB/s]\n",
      "Some weights of the model checkpoint at bert-base-cased were not used when initializing BertForMaskedLM: ['bert.pooler.dense.bias', 'bert.pooler.dense.weight', 'cls.seq_relationship.bias', 'cls.seq_relationship.weight']\n",
      "- This IS expected if you are initializing BertForMaskedLM from the checkpoint of a model trained on another task or with another architecture (e.g. initializing a BertForSequenceClassification model from a BertForPreTraining model).\n",
      "- This IS NOT expected if you are initializing BertForMaskedLM from the checkpoint of a model that you expect to be exactly identical (initializing a BertForSequenceClassification model from a BertForSequenceClassification model).\n",
      "tokenizer_config.json: 100%|█████████████████| 29.0/29.0 [00:00<00:00, 93.6kB/s]\n",
      "vocab.txt: 100%|██████████████████████████████| 213k/213k [00:00<00:00, 583kB/s]\n",
      "tokenizer.json: 100%|█████████████████████████| 436k/436k [00:00<00:00, 987kB/s]\n"
     ]
    }
   ],
   "source": [
    "model = AutoModelWithLMHead.from_pretrained('bert-base-cased')\n",
    "tokenizer = AutoTokenizer.from_pretrained(\"bert-base-cased\")"
   ]
  },
  {
   "cell_type": "code",
   "execution_count": 24,
   "id": "f05cb686-a1e4-4ea8-90f8-2180ff8baf5f",
   "metadata": {},
   "outputs": [
    {
     "name": "stdout",
     "output_type": "stream",
     "text": [
      "21.65673017501831\n",
      "BERT Summary is : [CLS] summarize : Dame Julie pops in to see Poppins Mary Poppins star Dame Julie Andrews watched the hit stage version of her classic film at a charity performance in London's West End. It was the first time Dame Julie, who shot to fame as the nanny in the 1964 Disney movie, had seen the musical, staged at the Prince Edward Theatre. She watched Laura Michelle Kelly, 23, reprise the role on stage. The show has been one of the [SEP] best known and the best known and the oldest of the musicals, Mary and Mary. The original. The original. The original Andrews. The original. Andrews and Julie Andrews. - - - - - - - - - - - - - - -\n"
     ]
    }
   ],
   "source": [
    "start = time.time()\n",
    "inputs = tokenizer.encode(\"summarize: \" + news_article_list[0], return_tensors=\"pt\", max_length=100)\n",
    "outputs = model.generate(inputs, max_length=150, min_length=40, length_penalty=2.0, num_beams=4, early_stopping=True)\n",
    "decoded_BERT = tokenizer.decode(outputs[0])\n",
    "end = time.time()\n",
    "BERT_time = (end-start)\n",
    "print(BERT_time)\n",
    "print(\"BERT Summary is :\", decoded_BERT)\n"
   ]
  },
  {
   "cell_type": "markdown",
   "id": "1130693f-cbcb-45c2-9cb5-80b621cfc561",
   "metadata": {
    "tags": []
   },
   "source": [
    "# Lexrank"
   ]
  },
  {
   "cell_type": "code",
   "execution_count": 77,
   "id": "3962b2a4-8115-4ca0-8f02-bcbe8f12babc",
   "metadata": {},
   "outputs": [
    {
     "name": "stderr",
     "output_type": "stream",
     "text": [
      "[nltk_data] Downloading package punkt to /home/chinois/nltk_data...\n",
      "[nltk_data]   Package punkt is already up-to-date!\n"
     ]
    }
   ],
   "source": [
    "import nltk\n",
    "nltk.download('punkt')\n",
    "\n",
    "from nltk.tokenize import sent_tokenize\n",
    "from lexrank import STOPWORDS, LexRank\n"
   ]
  },
  {
   "cell_type": "code",
   "execution_count": 79,
   "id": "6ee263a6-6f17-4c1b-bfbd-e1fb541f2162",
   "metadata": {},
   "outputs": [
    {
     "name": "stderr",
     "output_type": "stream",
     "text": [
      "100%|█████████████████████████████████████| 2225/2225 [00:00<00:00, 2999.32it/s]\n"
     ]
    },
    {
     "name": "stdout",
     "output_type": "stream",
     "text": [
      "23.22557520866394\n"
     ]
    }
   ],
   "source": [
    "sentences = sent_tokenize(news_article_list[0])\n",
    "documents = []\n",
    "start = time.time()\n",
    "for article in tqdm(news_article_list) :\n",
    "    documents.append(sent_tokenize(article))\n",
    "lxr = LexRank(documents)\n",
    "summary_cont = lxr.get_summary(sentences, threshold=None)\n",
    "end = time.time()\n",
    "\n",
    "print(end-start)"
   ]
  },
  {
   "cell_type": "code",
   "execution_count": null,
   "id": "f9fc40dc-83d3-4699-b54a-47530ff9080e",
   "metadata": {},
   "outputs": [],
   "source": [
    "lxr_summary = []\n",
    "lxr_times = []\n",
    "for article in tqdm(news_article_list[:500]):\n",
    "    start = time.time()\n",
    "    sentences = sent_tokenize(article)\n",
    "    summary_sentences = lxr.get_summary(sentences, summary_size= 4,threshold=0.03)\n",
    "    summary = ''.join(summary_sentences)\n",
    "    lxr_summary.append(summary)\n",
    "    end = time.time()\n",
    "    lxr_times.append(end-start)\n",
    "print(lxr_summary[0])\n",
    "print(lxr_times[0])"
   ]
  },
  {
   "cell_type": "code",
   "execution_count": 70,
   "id": "c6d03ba1-4d1d-4985-a726-c1b87ba5ec60",
   "metadata": {},
   "outputs": [
    {
     "name": "stdout",
     "output_type": "stream",
     "text": [
      "The list has been saved to lxr_summaries.pkl\n"
     ]
    }
   ],
   "source": [
    "# Specify the file name\n",
    "file_name = 'lxr_summaries.pkl'\n",
    "\n",
    "# Open the file in binary write mode\n",
    "with open(file_name, 'wb') as file:\n",
    "    # Use pickle.dump to save the list to the file\n",
    "    pickle.dump(lxr_summary, file)\n",
    "\n",
    "print(f'The list has been saved to {file_name}')"
   ]
  },
  {
   "cell_type": "code",
   "execution_count": 72,
   "id": "54862028-b59d-4fa2-ade0-53bfd1f138a1",
   "metadata": {},
   "outputs": [
    {
     "name": "stdout",
     "output_type": "stream",
     "text": [
      "The list has been saved to lxr_times.pkl\n"
     ]
    }
   ],
   "source": [
    "# Specify the file name\n",
    "file_name = 'lxr_times.pkl'\n",
    "\n",
    "# Open the file in binary write mode\n",
    "with open(file_name, 'wb') as file:\n",
    "    # Use pickle.dump to save the list to the file\n",
    "    pickle.dump(lxr_times, file)\n",
    "\n",
    "print(f'The list has been saved to {file_name}')"
   ]
  },
  {
   "cell_type": "markdown",
   "id": "cb9492cd-d214-40d1-a3e0-04dbfcabcc97",
   "metadata": {
    "jp-MarkdownHeadingCollapsed": true,
    "tags": []
   },
   "source": [
    "# GPT2"
   ]
  },
  {
   "cell_type": "code",
   "execution_count": 25,
   "id": "68bd49ee-ac01-41b6-8b66-1c925caa9578",
   "metadata": {},
   "outputs": [
    {
     "name": "stderr",
     "output_type": "stream",
     "text": [
      "config.json: 100%|█████████████████████████████| 665/665 [00:00<00:00, 2.12MB/s]\n",
      "model.safetensors: 100%|█████████████████████| 548M/548M [01:07<00:00, 8.10MB/s]\n",
      "generation_config.json: 100%|███████████████████| 124/124 [00:00<00:00, 991kB/s]\n",
      "vocab.json: 100%|██████████████████████████| 1.04M/1.04M [00:00<00:00, 1.50MB/s]\n",
      "merges.txt: 100%|█████████████████████████████| 456k/456k [00:00<00:00, 648kB/s]\n",
      "tokenizer.json: 100%|██████████████████████| 1.36M/1.36M [00:00<00:00, 1.56MB/s]\n"
     ]
    }
   ],
   "source": [
    "model = AutoModelWithLMHead.from_pretrained('gpt2')\n",
    "tokenizer = AutoTokenizer.from_pretrained(\"gpt2\")\n"
   ]
  },
  {
   "cell_type": "code",
   "execution_count": 73,
   "id": "753d5294-2564-44f4-a6d7-af59b5d6ef24",
   "metadata": {},
   "outputs": [
    {
     "name": "stderr",
     "output_type": "stream",
     "text": [
      "100%|█████████████████████████████████████████| 500/500 [06:19<00:00,  1.32it/s]"
     ]
    },
    {
     "name": "stdout",
     "output_type": "stream",
     "text": [
      "summarize: Dame Julie pops in to see Poppins\n",
      "\n",
      "Mary Poppins star Dame Julie Andrews watched the hit stage version of her classic film at a charity performance in London's West End.\n",
      "\n",
      "It was the first time Dame Julie, who shot to fame as the nanny in the 1964 Disney movie, had seen the musical, staged at the Prince Edward Theatre. She watched Laura Michelle Kelly, 23, reprise the role on stage. The show has been one of the West End's hottest tickets since opening in December, winning two Olivier Awards. Kelly was named best musical actress at last month's ceremony and the musical also won best choreography.\n",
      "\n",
      "But Kelly said she was \"very nervous\" about meeting Dame Julie \n",
      " 500\n"
     ]
    },
    {
     "name": "stderr",
     "output_type": "stream",
     "text": [
      "\n"
     ]
    }
   ],
   "source": [
    "GPT2_times = []\n",
    "GPT2_summary = []\n",
    "for article in tqdm(news_article_list[:500]):\n",
    "    start = time.time()\n",
    "    inputs = tokenizer.encode(\"summarize: \" + article, return_tensors=\"pt\", max_length=149)\n",
    "    # add attention mask here\n",
    "    \n",
    "    outputs = model.generate(inputs, pad_token_id=tokenizer.eos_token_id, max_length=150, min_length=40, length_penalty=2.0, num_beams=4, early_stopping=True)\n",
    "    decoded_GPT2 = tokenizer.decode(outputs[0])\n",
    "    GPT2_summary.append(decoded_GPT2)\n",
    "    end = time.time()\n",
    "    GPT2_times.append(end-start)\n",
    "print(GPT2_summary[0], '\\n', len(GPT2_summary))"
   ]
  },
  {
   "cell_type": "code",
   "execution_count": 74,
   "id": "871dbde6-1403-4024-8a3d-dc80d1c7728d",
   "metadata": {},
   "outputs": [
    {
     "name": "stdout",
     "output_type": "stream",
     "text": [
      "The list has been saved to GPT2_summaries.pkl\n"
     ]
    }
   ],
   "source": [
    "import pickle\n",
    "\n",
    "# Specify the file name\n",
    "file_name = 'GPT2_summaries.pkl'\n",
    "\n",
    "# Open the file in binary write mode\n",
    "with open(file_name, 'wb') as file:\n",
    "    # Use pickle.dump to save the list to the file\n",
    "    pickle.dump(GPT2_summary, file)\n",
    "\n",
    "print(f'The list has been saved to {file_name}')\n"
   ]
  },
  {
   "cell_type": "code",
   "execution_count": 75,
   "id": "395c971f-908f-4c03-a7f0-1dc9add2e9e6",
   "metadata": {},
   "outputs": [
    {
     "name": "stdout",
     "output_type": "stream",
     "text": [
      "The list has been saved to GPT2_times.pkl\n"
     ]
    }
   ],
   "source": [
    "import pickle\n",
    "\n",
    "# Specify the file name\n",
    "file_name = 'GPT2_times.pkl'\n",
    "\n",
    "# Open the file in binary write mode\n",
    "with open(file_name, 'wb') as file:\n",
    "    # Use pickle.dump to save the list to the file\n",
    "    pickle.dump(GPT2_times, file)\n",
    "\n",
    "print(f'The list has been saved to {file_name}')\n"
   ]
  },
  {
   "cell_type": "markdown",
   "id": "3f91d761-1401-46aa-a33d-faddbe5ca80a",
   "metadata": {
    "jp-MarkdownHeadingCollapsed": true,
    "tags": []
   },
   "source": [
    "# GPT3"
   ]
  },
  {
   "cell_type": "code",
   "execution_count": 116,
   "id": "ea7e3b80-23b1-4be4-adc1-30b495295266",
   "metadata": {},
   "outputs": [
    {
     "name": "stderr",
     "output_type": "stream",
     "text": [
      "model.safetensors: 100%|█████████████████████| 479M/479M [01:02<00:00, 7.61MB/s]\n",
      "generation_config.json: 100%|█████████████████| 74.0/74.0 [00:00<00:00, 260kB/s]\n",
      "vocab.json: 100%|████████████████████████████| 816k/816k [00:00<00:00, 1.44MB/s]\n",
      "merges.txt: 100%|████████████████████████████| 458k/458k [00:00<00:00, 1.07MB/s]\n",
      "tokenizer.json: 100%|██████████████████████| 1.27M/1.27M [00:00<00:00, 7.11MB/s]\n"
     ]
    }
   ],
   "source": [
    "model = AutoModelWithLMHead.from_pretrained('openai-gpt')\n",
    "tokenizer = AutoTokenizer.from_pretrained(\"openai-gpt\")"
   ]
  },
  {
   "cell_type": "code",
   "execution_count": 117,
   "id": "546e7a05-7e1b-4a02-95da-94226f1075e9",
   "metadata": {},
   "outputs": [
    {
     "name": "stderr",
     "output_type": "stream",
     "text": [
      "  0%|                                                   | 0/500 [00:00<?, ?it/s]Truncation was not explicitly activated but `max_length` is provided a specific value, please use `truncation=True` to explicitly truncate examples to max length. Defaulting to 'longest_first' truncation strategy. If you encode pairs of sequences (GLUE-style) with the tokenizer you can select this strategy more precisely by providing a specific strategy to `truncation`.\n",
      "100%|█████████████████████████████████████████| 500/500 [05:33<00:00,  1.50it/s]"
     ]
    },
    {
     "name": "stdout",
     "output_type": "stream",
     "text": [
      "summarize : dame julie pops in to see poppins mary poppins star dame julie andrews watched the hit stage version of her classic film at a charity performance in london's west end. it was the first time dame julie, who shot to fame as the nanny in the 1964 disney movie, had seen the musical, staged at the prince edward theatre. she watched laura michelle kelly, 23, reprise the role on stage. the show has been one of the west end's hottest tickets since opening in december, winning two olivier awards. kelly was named best musical actress at last month's ceremony and the musical also won best choreography. but kelly said she was \" very nervous \" about meeting dame julie because she was \" my \" \n",
      " 500\n"
     ]
    },
    {
     "name": "stderr",
     "output_type": "stream",
     "text": [
      "\n"
     ]
    }
   ],
   "source": [
    "GPT3_times = []\n",
    "GPT3_summary = []\n",
    "for article in tqdm(news_article_list[:500]):\n",
    "    start = time.time()\n",
    "    inputs = tokenizer.encode(\"summarize: \" + article, return_tensors=\"pt\", max_length=149)\n",
    "    # add attention mask here\n",
    "    \n",
    "    outputs = model.generate(inputs, pad_token_id=tokenizer.eos_token_id, max_length=150, min_length=40, length_penalty=2.0, num_beams=4, early_stopping=True)\n",
    "    decoded_GPT3 = tokenizer.decode(outputs[0])\n",
    "    GPT3_summary.append(decoded_GPT3)\n",
    "    end = time.time()\n",
    "    GPT3_times.append(end-start)\n",
    "print(GPT3_summary[0], '\\n', len(GPT3_summary))"
   ]
  },
  {
   "cell_type": "code",
   "execution_count": 128,
   "id": "7b5f8b08-0e48-4b90-8856-aa6324cb33cf",
   "metadata": {},
   "outputs": [
    {
     "name": "stdout",
     "output_type": "stream",
     "text": [
      "summarize : jungle tv show ratings drop by 4m the finale of itv1's i'm a celebrity... get me out of here drew an average of 10. 9m viewers - about four million fewer than the previous series. the fourth series of the show peaked on monday at 11. 9m and 49. 2 % of the audience, just before joe pasquale won. this compared with a peak of 15. 3m at and a record 62. 2 % of the tv audience when kerry mcfadden won in february. comic pasquale beat former royal butler paul burrell who came second, nightclub owner fran cosgrave, who was third. pasquale follows kerry mcfadden, phil mc \n",
      "\n",
      " The fourth series of the show peaked on Monday at 11.9m and 49.2% of the audience, just before Joe Pasquale won.Pasquale follows Kerry McFadden, Phil Tufnell and Tony Blackburn as winners of the show.Singer and TV presenter McFadden was the show's first female winner.This compared with a peak of 15.3m at and a record 62.2% of the TV audience when Kerry McFadden won in February. \n",
      "\n",
      "\n",
      " Pasquale follows Kerry McFadden, Phil Tufnell and Tony Blackburn as winners of the show.Singer and TV presenter McFadden was the show's first female winner.And when Tony Blackburn won the first show in 2002, 10.9 million people saw the show.\"He wants to play the West End and do different things other than straightforward comedy.The fourth series of the show peaked on Monday at 11.9m and 49.2% of the audience, just before Joe Pasquale won.Before joining I'm a Celebrity, he had signed up to play Jack in Jack and the Beanstalk in Birmingham, and tickets for the show have become increasingly popular since he joined the TV show.This compared with a peak of 15.3m at and a record 62.2% of the TV audience when Kerry McFadden won in February.\n"
     ]
    }
   ],
   "source": [
    "print(GPT3_summary[23], '\\n\\n', lxr_summary[23], '\\n\\n\\n', news_summary_list[23] )"
   ]
  },
  {
   "cell_type": "code",
   "execution_count": 118,
   "id": "ca3dd5f7-9df0-4096-982f-fa47b5356f83",
   "metadata": {},
   "outputs": [
    {
     "name": "stdout",
     "output_type": "stream",
     "text": [
      "The list has been saved to GPT3_summaries.pkl\n"
     ]
    }
   ],
   "source": [
    "import pickle\n",
    "\n",
    "# Specify the file name\n",
    "file_name = 'GPT3_summaries.pkl'\n",
    "\n",
    "# Open the file in binary write mode\n",
    "with open(file_name, 'wb') as file:\n",
    "    # Use pickle.dump to save the list to the file\n",
    "    pickle.dump(GPT3_summary, file)\n",
    "\n",
    "print(f'The list has been saved to {file_name}')"
   ]
  },
  {
   "cell_type": "code",
   "execution_count": 119,
   "id": "bcea9729-e2dc-42ef-aaa8-58fa9ae501a6",
   "metadata": {},
   "outputs": [
    {
     "name": "stdout",
     "output_type": "stream",
     "text": [
      "The list has been saved to GPT3_times.pkl\n"
     ]
    }
   ],
   "source": [
    "import pickle\n",
    "\n",
    "# Specify the file name\n",
    "file_name = 'GPT3_times.pkl'\n",
    "\n",
    "# Open the file in binary write mode\n",
    "with open(file_name, 'wb') as file:\n",
    "    # Use pickle.dump to save the list to the file\n",
    "    pickle.dump(GPT3_times, file)\n",
    "\n",
    "print(f'The list has been saved to {file_name}')\n"
   ]
  },
  {
   "cell_type": "markdown",
   "id": "e62d6fb6-7a2b-4696-9148-e3a6204299f8",
   "metadata": {
    "tags": []
   },
   "source": [
    "# Analysis - ROUGE"
   ]
  },
  {
   "cell_type": "code",
   "execution_count": 11,
   "id": "41fcd2b2-d6fb-49c2-81db-e359b75585ed",
   "metadata": {},
   "outputs": [
    {
     "name": "stdout",
     "output_type": "stream",
     "text": [
      "Defaulting to user installation because normal site-packages is not writeable\n",
      "Requirement already satisfied: rouge in /home/chinois/.local/lib/python3.10/site-packages (1.0.1)\n",
      "Requirement already satisfied: six in /usr/lib/python3/dist-packages (from rouge) (1.16.0)\n"
     ]
    }
   ],
   "source": [
    "!pip install rouge\n"
   ]
  },
  {
   "cell_type": "code",
   "execution_count": 12,
   "id": "79f9a65a-92f3-41fd-9833-a8f2277128cd",
   "metadata": {},
   "outputs": [],
   "source": [
    "import statistics"
   ]
  },
  {
   "cell_type": "code",
   "execution_count": 13,
   "id": "8a31fb6c-fc95-4660-8260-9310fcb81f30",
   "metadata": {},
   "outputs": [],
   "source": [
    "import pickle\n",
    "\n",
    "def get_list(name):\n",
    "    # Open the file in binary read mode\n",
    "    with open(name, 'rb') as file:\n",
    "        # Use pickle.load to load the list from the file\n",
    "        my_list = pickle.load(file)\n",
    "\n",
    "        # Now, 'my_list' contains the data loaded from the pickle file\n",
    "    return my_list\n",
    "\n",
    "lxr_summary, GPT2_summary, GPT3_summary = get_list('lxr_summaries.pkl'), get_list('GPT2_summaries.pkl'), get_list('GPT3_summaries.pkl')\n"
   ]
  },
  {
   "cell_type": "code",
   "execution_count": 52,
   "id": "290436f5-8a4d-41a1-ba08-6a4b2a1f5c99",
   "metadata": {},
   "outputs": [],
   "source": [
    "from rouge import Rouge\n",
    "\n",
    "# Calculate ROUGE scores for each pair of system and reference summaries\n",
    "def calculate_rouge(system_summary, reference_summary):\n",
    "    evaluator = Rouge()\n",
    "    scores = evaluator.get_scores(system_summary, reference_summary)\n",
    "    return scores"
   ]
  },
  {
   "cell_type": "code",
   "execution_count": 53,
   "id": "a8f5183f-752a-4cdc-b2a6-d5f239aeb0bc",
   "metadata": {},
   "outputs": [
    {
     "name": "stderr",
     "output_type": "stream",
     "text": [
      "500it [00:14, 33.83it/s]\n"
     ]
    }
   ],
   "source": [
    "scores_lxr = {'rouge-1': {'r': [], 'p': [], 'f': []}, 'rouge-2': {'r': [], 'p': [], 'f': []}, 'rouge-l': {'r': [], 'p': [], 'f': []}}\n",
    "scores_gpt2= {'rouge-1': {'r': [], 'p': [], 'f': []}, 'rouge-2': {'r': [], 'p': [], 'f': []}, 'rouge-l': {'r': [], 'p': [], 'f': []}}\n",
    "scores_gpt3= {'rouge-1': {'r': [], 'p': [], 'f': []}, 'rouge-2': {'r': [], 'p': [], 'f': []}, 'rouge-l': {'r': [], 'p': [], 'f': []}}\n",
    "\n",
    "for index, summary in tqdm(enumerate(news_summary_list[:500])):\n",
    "    score_lxr = calculate_rouge(lxr_summary[index], summary)\n",
    "    score_gpt2 = calculate_rouge(GPT2_summary[index], summary)\n",
    "    score_gpt3 = calculate_rouge(GPT3_summary[index], summary)\n",
    "\n",
    "    scores_lxr['rouge-1']['r'].append(score_lxr[0]['rouge-1']['r'])\n",
    "    scores_lxr['rouge-1']['p'].append(score_lxr[0]['rouge-1']['p'])\n",
    "    scores_lxr['rouge-1']['f'].append(score_lxr[0]['rouge-1']['f'])\n",
    "    \n",
    "    scores_lxr['rouge-2']['r'].append(score_lxr[0]['rouge-2']['r'])\n",
    "    scores_lxr['rouge-2']['p'].append(score_lxr[0]['rouge-2']['p'])\n",
    "    scores_lxr['rouge-2']['f'].append(score_lxr[0]['rouge-2']['f'])\n",
    "\n",
    "    scores_lxr['rouge-l']['r'].append(score_lxr[0]['rouge-l']['r'])\n",
    "    scores_lxr['rouge-l']['p'].append(score_lxr[0]['rouge-l']['p'])\n",
    "    scores_lxr['rouge-l']['f'].append(score_lxr[0]['rouge-l']['f'])\n",
    "    \n",
    "    scores_gpt2['rouge-1']['r'].append(score_gpt2[0]['rouge-1']['r'])\n",
    "    scores_gpt2['rouge-1']['p'].append(score_gpt2[0]['rouge-1']['p'])\n",
    "    scores_gpt2['rouge-1']['f'].append(score_gpt2[0]['rouge-1']['f'])\n",
    "    \n",
    "    scores_gpt2['rouge-2']['r'].append(score_gpt2[0]['rouge-2']['r'])\n",
    "    scores_gpt2['rouge-2']['p'].append(score_gpt2[0]['rouge-2']['p'])\n",
    "    scores_gpt2['rouge-2']['f'].append(score_gpt2[0]['rouge-2']['f'])\n",
    "\n",
    "    scores_gpt2['rouge-l']['r'].append(score_gpt2[0]['rouge-l']['r'])\n",
    "    scores_gpt2['rouge-l']['p'].append(score_gpt2[0]['rouge-l']['p'])\n",
    "    scores_gpt2['rouge-l']['f'].append(score_gpt2[0]['rouge-l']['f'])\n",
    "    \n",
    "    scores_gpt3['rouge-1']['r'].append(score_gpt3[0]['rouge-1']['r'])\n",
    "    scores_gpt3['rouge-1']['p'].append(score_gpt3[0]['rouge-1']['p'])\n",
    "    scores_gpt3['rouge-1']['f'].append(score_gpt3[0]['rouge-1']['f'])\n",
    "    \n",
    "    scores_gpt3['rouge-2']['r'].append(score_gpt3[0]['rouge-2']['r'])\n",
    "    scores_gpt3['rouge-2']['p'].append(score_gpt3[0]['rouge-2']['p'])\n",
    "    scores_gpt3['rouge-2']['f'].append(score_gpt3[0]['rouge-2']['f'])\n",
    "\n",
    "    scores_gpt3['rouge-l']['r'].append(score_gpt3[0]['rouge-l']['r'])\n",
    "    scores_gpt3['rouge-l']['p'].append(score_gpt3[0]['rouge-l']['p'])\n",
    "    scores_gpt3['rouge-l']['f'].append(score_gpt3[0]['rouge-l']['f'])\n",
    "\n",
    "\n",
    "    "
   ]
  },
  {
   "cell_type": "code",
   "execution_count": 54,
   "id": "f86e3960-7647-44fb-9df2-c7847e232dd3",
   "metadata": {},
   "outputs": [],
   "source": [
    "mean_lxr = {'rouge-1': {'r': 0, 'p': 0, 'f': 0}, 'rouge-2': {'r': 0, 'p': 0, 'f': 0}, 'rouge-l': {'r': 0, 'p': 0, 'f': 0}}\n",
    "\n",
    "mean_lxr['rouge-1']['r'] = statistics.mean(scores_lxr['rouge-1']['r'])\n",
    "mean_lxr['rouge-1']['p'] = statistics.mean(scores_lxr['rouge-1']['p'])\n",
    "mean_lxr['rouge-1']['f'] = statistics.mean(scores_lxr['rouge-1']['f'])\n",
    "\n",
    "mean_lxr['rouge-2']['r'] = statistics.mean(scores_lxr['rouge-2']['r'])\n",
    "mean_lxr['rouge-2']['p'] = statistics.mean(scores_lxr['rouge-2']['p'])\n",
    "mean_lxr['rouge-2']['f'] = statistics.mean(scores_lxr['rouge-2']['f'])\n",
    "\n",
    "mean_lxr['rouge-l']['r'] = statistics.mean(scores_lxr['rouge-l']['r'])\n",
    "mean_lxr['rouge-l']['p'] = statistics.mean(scores_lxr['rouge-l']['p'])\n",
    "mean_lxr['rouge-l']['f'] = statistics.mean(scores_lxr['rouge-l']['f'])"
   ]
  },
  {
   "cell_type": "code",
   "execution_count": 55,
   "id": "9a00bbc4-916f-4212-95ca-daa55fbefd9e",
   "metadata": {},
   "outputs": [
    {
     "name": "stdout",
     "output_type": "stream",
     "text": [
      "{'rouge-1': {'r': 0.6107972692044713, 'p': 0.8238786162795455, 'f': 0.6840108870883583}, 'rouge-2': {'r': 0.5268438948314309, 'p': 0.7534332969080533, 'f': 0.5996313604072603}, 'rouge-l': {'r': 0.6072604559772664, 'p': 0.8191853272599362, 'f': 0.6800707724860748}}\n"
     ]
    }
   ],
   "source": [
    "print(mean_lxr)"
   ]
  },
  {
   "cell_type": "code",
   "execution_count": 56,
   "id": "d375f32a-d5b6-4540-aae3-0a00917857bc",
   "metadata": {},
   "outputs": [],
   "source": [
    "mean_gpt2 = {'rouge-1': {'r': 0, 'p': 0, 'f': 0}, 'rouge-2': {'r': 0, 'p': 0, 'f': 0}, 'rouge-l': {'r': 0, 'p': 0, 'f': 0}}\n",
    "\n",
    "mean_gpt2['rouge-1']['r'] = statistics.mean(scores_gpt2['rouge-1']['r'])\n",
    "mean_gpt2['rouge-1']['p'] = statistics.mean(scores_gpt2['rouge-1']['p'])\n",
    "mean_gpt2['rouge-1']['f'] = statistics.mean(scores_gpt2['rouge-1']['f'])\n",
    "\n",
    "mean_gpt2['rouge-2']['r'] = statistics.mean(scores_gpt2['rouge-2']['r'])\n",
    "mean_gpt2['rouge-2']['p'] = statistics.mean(scores_gpt2['rouge-2']['p'])\n",
    "mean_gpt2['rouge-2']['f'] = statistics.mean(scores_gpt2['rouge-2']['f'])\n",
    "\n",
    "mean_gpt2['rouge-l']['r'] = statistics.mean(scores_gpt2['rouge-l']['r'])\n",
    "mean_gpt2['rouge-l']['p'] = statistics.mean(scores_gpt2['rouge-l']['p'])\n",
    "mean_gpt2['rouge-l']['f'] = statistics.mean(scores_gpt2['rouge-l']['f'])"
   ]
  },
  {
   "cell_type": "code",
   "execution_count": 57,
   "id": "fb48e0cb-3289-44f7-902d-9be2a9c585d8",
   "metadata": {},
   "outputs": [
    {
     "name": "stdout",
     "output_type": "stream",
     "text": [
      "{'rouge-1': {'r': 0.5525849263101736, 'p': 0.6161347627325594, 'f': 0.5663228114118829}, 'rouge-2': {'r': 0.44017984158774576, 'p': 0.5046489694000454, 'f': 0.45265583251220737}, 'rouge-l': {'r': 0.5442476651455688, 'p': 0.6062617095442804, 'f': 0.5575414522170741}}\n"
     ]
    }
   ],
   "source": [
    "print(mean_gpt2)"
   ]
  },
  {
   "cell_type": "code",
   "execution_count": 58,
   "id": "bdf966d1-084b-4435-a241-105006dd8204",
   "metadata": {},
   "outputs": [],
   "source": [
    "mean_gpt3 = {'rouge-1': {'r': 0, 'p': 0, 'f': 0}, 'rouge-2': {'r': 0, 'p': 0, 'f': 0}, 'rouge-l': {'r': 0, 'p': 0, 'f': 0}}\n",
    "\n",
    "mean_gpt3['rouge-1']['r'] = statistics.mean(scores_gpt3['rouge-1']['r'])\n",
    "mean_gpt3['rouge-1']['p'] = statistics.mean(scores_gpt3['rouge-1']['p'])\n",
    "mean_gpt3['rouge-1']['f'] = statistics.mean(scores_gpt3['rouge-1']['f'])\n",
    "\n",
    "mean_gpt3['rouge-2']['r'] = statistics.mean(scores_gpt3['rouge-2']['r'])\n",
    "mean_gpt3['rouge-2']['p'] = statistics.mean(scores_gpt3['rouge-2']['p'])\n",
    "mean_gpt2['rouge-2']['f'] = statistics.mean(scores_gpt3['rouge-2']['f'])\n",
    "\n",
    "mean_gpt3['rouge-l']['r'] = statistics.mean(scores_gpt3['rouge-l']['r'])\n",
    "mean_gpt3['rouge-l']['p'] = statistics.mean(scores_gpt3['rouge-l']['p'])\n",
    "mean_gpt3['rouge-l']['f'] = statistics.mean(scores_gpt3['rouge-l']['f'])"
   ]
  },
  {
   "cell_type": "code",
   "execution_count": 59,
   "id": "951a9cb4-1a0d-436a-aa23-fcd482538300",
   "metadata": {},
   "outputs": [
    {
     "name": "stdout",
     "output_type": "stream",
     "text": [
      "{'rouge-1': {'r': 0.41564263750294234, 'p': 0.45761326610680136, 'f': 0.4227809545220793}, 'rouge-2': {'r': 0.2825019378032273, 'p': 0.3074974800063765, 'f': 0}, 'rouge-l': {'r': 0.40736724571917415, 'p': 0.44770043407925614, 'f': 0.4140453154899936}}\n"
     ]
    }
   ],
   "source": [
    "print(mean_gpt3)"
   ]
  },
  {
   "cell_type": "code",
   "execution_count": 60,
   "id": "4060d24a-701e-4612-8f8c-b50292f973a6",
   "metadata": {},
   "outputs": [
    {
     "name": "stdout",
     "output_type": "stream",
     "text": [
      "          r         p         f\n",
      "0  0.610797  0.823879  0.684011\n",
      "1  0.552585  0.616135  0.566323\n",
      "2  0.415643  0.457613  0.422781\n"
     ]
    }
   ],
   "source": [
    "# Create a DataFrame from the dictionaries\n",
    "df = pd.DataFrame([mean_lxr['rouge-1'], mean_gpt2['rouge-1'], mean_gpt3['rouge-1']])\n",
    "\n",
    "# Display the DataFrame\n",
    "print(df)\n"
   ]
  },
  {
   "cell_type": "code",
   "execution_count": 61,
   "id": "d7a8ef8b-fb4a-4dd6-ab46-6d0397b7514e",
   "metadata": {},
   "outputs": [
    {
     "data": {
      "image/png": "[encoded data removed]",
      "text/plain": [
       "<Figure size 432x288 with 1 Axes>"
      ]
     },
     "metadata": {
      "needs_background": "light"
     },
     "output_type": "display_data"
    },
    {
     "data": {
      "image/png": "[encoded data removed]",
      "text/plain": [
       "<Figure size 432x288 with 1 Axes>"
      ]
     },
     "metadata": {
      "needs_background": "light"
     },
     "output_type": "display_data"
    },
    {
     "data": {
      "image/png": "[encoded data removed]",
      "text/plain": [
       "<Figure size 432x288 with 1 Axes>"
      ]
     },
     "metadata": {
      "needs_background": "light"
     },
     "output_type": "display_data"
    }
   ],
   "source": [
    "df['dictionary'] = ['LRX', 'GPT2', 'GPT3']\n",
    "# Melt the DataFrame to reshape it for plotting\n",
    "df_melted = pd.melt(df, id_vars=['dictionary'], value_vars=df.columns[:-1], var_name='key', value_name='value')\n",
    "k = {'r':'Recall', 'p':'Precision', 'f':'f1_score'}\n",
    "\n",
    "# Iterate through unique keys and plot for each key\n",
    "for key in df_melted['key'].unique():\n",
    "    key_df = df_melted[df_melted['key'] == key]\n",
    "    \n",
    "    title = k[key]\n",
    "    key_df.plot(kind='bar', x='dictionary', y='value', rot=0, legend=False, color=['pink', 'lightgreen', 'skyblue'])\n",
    "    # Set labels and title\n",
    "    plt.xlabel('')\n",
    "    plt.ylabel('Values')\n",
    "    plt.title(f'{title}')\n",
    "    \n",
    "    # Display the plot\n",
    "    plt.show()\n"
   ]
  },
  {
   "cell_type": "code",
   "execution_count": 62,
   "id": "8a18c79c-4999-499f-9ffc-cbea2f7b7492",
   "metadata": {},
   "outputs": [],
   "source": [
    "gpt3_tot, gpt2_tot, lxr_tot = {}, {}, {}\n",
    "gpt3_tot['r'] = (mean_gpt3['rouge-1']['r']+mean_gpt3['rouge-2']['r']+mean_gpt3['rouge-l']['r'])/3\n",
    "gpt3_tot['p'] = (mean_gpt3['rouge-1']['p']+mean_gpt3['rouge-2']['p']+mean_gpt3['rouge-l']['p'])/3\n",
    "gpt3_tot['f'] = (mean_gpt3['rouge-1']['f']+mean_gpt3['rouge-2']['f']+mean_gpt3['rouge-l']['f'])/3\n",
    "\n",
    "gpt2_tot['r'] = (mean_gpt2['rouge-1']['r']+mean_gpt2['rouge-2']['r']+mean_gpt2['rouge-l']['r'])/3\n",
    "gpt2_tot['p'] = (mean_gpt2['rouge-1']['p']+mean_gpt2['rouge-2']['p']+mean_gpt2['rouge-l']['p'])/3\n",
    "gpt2_tot['f'] = (mean_gpt2['rouge-1']['f']+mean_gpt2['rouge-2']['f']+mean_gpt2['rouge-l']['f'])/3\n",
    "\n",
    "lxr_tot['r'] = (mean_lxr['rouge-1']['r']+mean_lxr['rouge-2']['r']+mean_lxr['rouge-l']['r'])/3\n",
    "lxr_tot['p'] = (mean_lxr['rouge-1']['p']+mean_lxr['rouge-2']['p']+mean_lxr['rouge-l']['p'])/3\n",
    "lxr_tot['f'] = (mean_lxr['rouge-1']['f']+mean_lxr['rouge-2']['f']+mean_lxr['rouge-l']['f'])/3"
   ]
  },
  {
   "cell_type": "code",
   "execution_count": 63,
   "id": "74ed60b7-b2ff-4640-a60f-d68373cb6549",
   "metadata": {},
   "outputs": [
    {
     "name": "stdout",
     "output_type": "stream",
     "text": [
      "          r         p         f\n",
      "0  0.581634  0.798832  0.654571\n",
      "1  0.512337  0.575682  0.468903\n",
      "2  0.368504  0.404270  0.278942\n"
     ]
    }
   ],
   "source": [
    "# Create a DataFrame from the dictionaries\n",
    "df = pd.DataFrame([lxr_tot, gpt2_tot, gpt3_tot])\n",
    "\n",
    "# Display the DataFrame\n",
    "print(df)"
   ]
  },
  {
   "cell_type": "code",
   "execution_count": 64,
   "id": "217325c7-0112-4e3e-848d-d30a4c2b9e87",
   "metadata": {},
   "outputs": [
    {
     "data": {
      "image/png": "[encoded data removed]",
      "text/plain": [
       "<Figure size 432x288 with 1 Axes>"
      ]
     },
     "metadata": {
      "needs_background": "light"
     },
     "output_type": "display_data"
    },
    {
     "data": {
      "image/png": "[encoded data removed]",
      "text/plain": [
       "<Figure size 432x288 with 1 Axes>"
      ]
     },
     "metadata": {
      "needs_background": "light"
     },
     "output_type": "display_data"
    },
    {
     "data": {
      "image/png": "[encoded data removed]",
      "text/plain": [
       "<Figure size 432x288 with 1 Axes>"
      ]
     },
     "metadata": {
      "needs_background": "light"
     },
     "output_type": "display_data"
    }
   ],
   "source": [
    "df['dictionary'] = ['LXR', 'GPT2', 'GPT3']\n",
    "# Melt the DataFrame to reshape it for plotting\n",
    "df_melted = pd.melt(df, id_vars=['dictionary'], value_vars=df.columns[:-1], var_name='key', value_name='value')\n",
    "k = {'r':'Average Recall - BBC News', 'p':'Average Precision - BBC News', 'f':'Average f1_score - BBC News'}\n",
    "\n",
    "# Iterate through unique keys and plot for each key\n",
    "for key in df_melted['key'].unique():\n",
    "    key_df = df_melted[df_melted['key'] == key]\n",
    "    \n",
    "    title = k[key]\n",
    "    key_df.plot(kind='bar', x='dictionary', y='value', rot=0, legend=False, color=['pink', 'lightgreen', 'skyblue'])\n",
    "    # Set labels and title\n",
    "    plt.xlabel('')\n",
    "    plt.ylabel('Values')\n",
    "    plt.title(f'{title}')\n",
    "    \n",
    "    # Display the plot\n",
    "    plt.show()\n"
   ]
  },
  {
   "cell_type": "code",
   "execution_count": 65,
   "id": "f94f230c-ac69-46e0-b221-2040b140a4a5",
   "metadata": {},
   "outputs": [],
   "source": [
    "def variance_dict(diction):\n",
    "    var_dict = {'rouge-1': {'r': 0, 'p': 0, 'f': 0}, 'rouge-2': {'r': 0, 'p': 0, 'f': 0}, 'rouge-l': {'r': 0, 'p': 0, 'f': 0}}\n",
    "\n",
    "    var_dict['rouge-1']['r'] = statistics.variance(diction['rouge-1']['r'])\n",
    "    var_dict['rouge-1']['p'] = statistics.variance(diction['rouge-1']['p'])\n",
    "    var_dict['rouge-1']['f'] = statistics.variance(diction['rouge-1']['f'])\n",
    "\n",
    "    var_dict['rouge-2']['r'] = statistics.variance(diction['rouge-2']['r'])\n",
    "    var_dict['rouge-2']['p'] = statistics.variance(diction['rouge-2']['p'])\n",
    "    var_dict['rouge-2']['f'] = statistics.variance(diction['rouge-2']['f'])\n",
    "\n",
    "    var_dict['rouge-l']['r'] = statistics.variance(diction['rouge-l']['r'])\n",
    "    var_dict['rouge-l']['p'] = statistics.variance(diction['rouge-l']['p'])\n",
    "    var_dict['rouge-l']['f'] = statistics.variance(diction['rouge-l']['f'])\n",
    "    \n",
    "    return var_dict"
   ]
  },
  {
   "cell_type": "code",
   "execution_count": 66,
   "id": "f0ff25d5-9ffa-4883-bb2e-12d7e95e41dc",
   "metadata": {},
   "outputs": [
    {
     "name": "stdout",
     "output_type": "stream",
     "text": [
      "{'rouge-1': {'r': 0.03135241107262382, 'p': 0.02400697478686458, 'f': 0.021599664787539198}, 'rouge-2': {'r': 0.03618066520178175, 'p': 0.033924413971630187, 'f': 0.028366155308027007}, 'rouge-l': {'r': 0.03182780886494161, 'p': 0.025229455940988757, 'f': 0.022380502595784398}} \n",
      "\n",
      "\n",
      " {'rouge-1': {'r': 0.03046227122174584, 'p': 0.01925950489992815, 'f': 0.017797698341015886}, 'rouge-2': {'r': 0.03641950780150198, 'p': 0.025857785869233457, 'f': 0.02467567774873205}, 'rouge-l': {'r': 0.031251238641395014, 'p': 0.020099737559379938, 'f': 0.018763111132586576}} \n",
      "\n",
      "\n",
      " {'rouge-1': {'r': 0.01587279189794565, 'p': 0.013482426894034201, 'f': 0.009829754508976113}, 'rouge-2': {'r': 0.01587941292526002, 'p': 0.013464504447319978, 'f': 0.011229627421861685}, 'rouge-l': {'r': 0.016508339124096983, 'p': 0.013775424323642413, 'f': 0.01050164344760366}}\n"
     ]
    }
   ],
   "source": [
    "var_lxr, var_gpt2, var_gpt3 = variance_dict(scores_lxr), variance_dict(scores_gpt2), variance_dict(scores_gpt3)\n",
    "\n",
    "print(var_lxr, '\\n\\n\\n', var_gpt2, '\\n\\n\\n', var_gpt3)"
   ]
  },
  {
   "cell_type": "code",
   "execution_count": 67,
   "id": "0b0fa2d1-3b4d-432c-a386-265dc601bcab",
   "metadata": {},
   "outputs": [],
   "source": [
    "def variance_rouge(diction):\n",
    "    var_rouge = {'r': 0, 'p': 0, 'f': 0}\n",
    "    \n",
    "    var_rouge['r'] = (diction['rouge-1']['r']+diction['rouge-2']['r']+diction['rouge-l']['r'])/3\n",
    "    var_rouge['p'] = (diction['rouge-1']['p']+diction['rouge-2']['p']+diction['rouge-l']['p'])/3\n",
    "    var_rouge['f'] = (diction['rouge-1']['f']+diction['rouge-2']['f']+diction['rouge-l']['f'])/3\n",
    "    return var_rouge"
   ]
  },
  {
   "cell_type": "code",
   "execution_count": 68,
   "id": "cd07540a-b436-4046-b89d-c9033bbf5be7",
   "metadata": {},
   "outputs": [
    {
     "name": "stdout",
     "output_type": "stream",
     "text": [
      "{'r': 0.03312029504644906, 'p': 0.027720281566494507, 'f': 0.02411544089711687} {'r': 0.032711005888214274, 'p': 0.02173900944284718, 'f': 0.02041216240744484} {'r': 0.01608684798243422, 'p': 0.013574118554998864, 'f': 0.010520341792813819}\n"
     ]
    }
   ],
   "source": [
    "varmean_lxr, varmean_gpt2, varmean_gpt3 = variance_rouge(var_lxr), variance_rouge(var_gpt2), variance_rouge(var_gpt3)\n",
    "\n",
    "print(varmean_lxr, varmean_gpt2, varmean_gpt3)"
   ]
  },
  {
   "cell_type": "code",
   "execution_count": 69,
   "id": "4c4def57-275c-4bd3-9016-b960a3e6b612",
   "metadata": {},
   "outputs": [
    {
     "name": "stdout",
     "output_type": "stream",
     "text": [
      "          r         p         f\n",
      "0  0.033120  0.027720  0.024115\n",
      "1  0.032711  0.021739  0.020412\n",
      "2  0.016087  0.013574  0.010520\n"
     ]
    }
   ],
   "source": [
    "# Create a DataFrame from the dictionaries\n",
    "df = pd.DataFrame([varmean_lxr, varmean_gpt2, varmean_gpt3])\n",
    "\n",
    "# Display the DataFrame\n",
    "print(df)"
   ]
  },
  {
   "cell_type": "code",
   "execution_count": 70,
   "id": "0e66e6a0-5093-4e4d-848b-bf68ce8b049e",
   "metadata": {},
   "outputs": [
    {
     "data": {
      "image/png": "[encoded data removed]",
      "text/plain": [
       "<Figure size 432x288 with 1 Axes>"
      ]
     },
     "metadata": {
      "needs_background": "light"
     },
     "output_type": "display_data"
    },
    {
     "data": {
      "image/png": "[encoded data removed]",
      "text/plain": [
       "<Figure size 432x288 with 1 Axes>"
      ]
     },
     "metadata": {
      "needs_background": "light"
     },
     "output_type": "display_data"
    },
    {
     "data": {
      "image/png": "[encoded data removed]",
      "text/plain": [
       "<Figure size 432x288 with 1 Axes>"
      ]
     },
     "metadata": {
      "needs_background": "light"
     },
     "output_type": "display_data"
    }
   ],
   "source": [
    "df['dictionary'] = ['LXR', 'GPT2', 'GPT3']\n",
    "# Melt the DataFrame to reshape it for plotting\n",
    "df_melted = pd.melt(df, id_vars=['dictionary'], value_vars=df.columns[:-1], var_name='key', value_name='value')\n",
    "k = {'r':'Variance Recall', 'p':'Variance Precision', 'f':'Variance f1_score'}\n",
    "\n",
    "# Iterate through unique keys and plot for each key\n",
    "for key in df_melted['key'].unique():\n",
    "    key_df = df_melted[df_melted['key'] == key]\n",
    "    \n",
    "    title = k[key]\n",
    "    key_df.plot(kind='bar', x='dictionary', y='value', rot=0, legend=False, color=['pink', 'lightgreen', 'skyblue'])\n",
    "    # Set labels and title\n",
    "    plt.xlabel('')\n",
    "    plt.ylabel('Values')\n",
    "    plt.title(f'{title}')\n",
    "    \n",
    "    # Display the plot\n",
    "    plt.show()\n"
   ]
  },
  {
   "cell_type": "markdown",
   "id": "8f92f9c0-6cc4-421b-b206-4e2494b5a053",
   "metadata": {
    "jp-MarkdownHeadingCollapsed": true,
    "tags": []
   },
   "source": [
    " # Time Analysis"
   ]
  },
  {
   "cell_type": "code",
   "execution_count": 34,
   "id": "013d54e6-cc84-4e45-a2d8-eb0813cc5ff0",
   "metadata": {},
   "outputs": [],
   "source": [
    "import pickle\n",
    "\n",
    "def get_list(name):\n",
    "    # Open the file in binary read mode\n",
    "    with open(name, 'rb') as file:\n",
    "        # Use pickle.load to load the list from the file\n",
    "        my_list = pickle.load(file)\n",
    "\n",
    "        # Now, 'my_list' contains the data loaded from the pickle file\n",
    "    return my_list\n",
    "\n",
    "lxr_time, GPT2_time, GPT3_time = get_list('lxr_times.pkl'), get_list('GPT2_times.pkl'), get_list('GPT3_times.pkl')\n"
   ]
  },
  {
   "cell_type": "code",
   "execution_count": 39,
   "id": "178440c6-0ebf-49b1-a8e9-cc375dc39f71",
   "metadata": {},
   "outputs": [
    {
     "name": "stdout",
     "output_type": "stream",
     "text": [
      "LexRank average summarization time is : 0.011955588817596436\n",
      "GPT2 average summarization time is : 0.7585849785804748\n",
      "GPT3 average summarization time is : 0.6666714696884155\n"
     ]
    }
   ],
   "source": [
    "print(\"LexRank average summarization time is :\", np.mean(lxr_time))\n",
    "print(\"GPT2 average summarization time is :\", np.mean(GPT2_time))\n",
    "print(\"GPT3 average summarization time is :\", np.mean(GPT3_time))\n"
   ]
  },
  {
   "cell_type": "markdown",
   "id": "a214226a-cc97-4eb0-b0d9-72c212c2c04e",
   "metadata": {
    "jp-MarkdownHeadingCollapsed": true,
    "tags": []
   },
   "source": [
    "# Summaries Example"
   ]
  },
  {
   "cell_type": "code",
   "execution_count": 40,
   "id": "bd05d605-36c3-45f5-b05d-9b6239f5ba4d",
   "metadata": {},
   "outputs": [],
   "source": [
    "import pickle\n",
    "\n",
    "def get_list(name):\n",
    "    # Open the file in binary read mode\n",
    "    with open(name, 'rb') as file:\n",
    "        # Use pickle.load to load the list from the file\n",
    "        my_list = pickle.load(file)\n",
    "\n",
    "        # Now, 'my_list' contains the data loaded from the pickle file\n",
    "    return my_list\n",
    "\n",
    "lxr_summary, GPT2_summary, GPT3_summary = get_list('lxr_summaries.pkl'), get_list('GPT2_summaries.pkl'), get_list('GPT3_summaries.pkl')\n"
   ]
  },
  {
   "cell_type": "code",
   "execution_count": 48,
   "id": "cd3b6d87-73e5-4270-9dfe-8319e8f53e13",
   "metadata": {},
   "outputs": [
    {
     "name": "stdout",
     "output_type": "stream",
     "text": [
      "LexRank summary is :\n",
      " Dame Julie pops in to see Poppins\n",
      "\n",
      "Mary Poppins star Dame Julie Andrews watched the hit stage version of her classic film at a charity performance in London's West End.But Kelly said she was \"very nervous\" about meeting Dame Julie because she was \"my absolute hero\".It was the first time Dame Julie, who shot to fame as the nanny in the 1964 Disney movie, had seen the musical, staged at the Prince Edward Theatre.The gala performance saw Dame Julie, 69, return to the theatre where she had her first starring role in a performance of Humpty Dumpty in 1948. \n",
      "\n",
      "\n",
      "GPT2 summary is :\n",
      " summarize: Dame Julie pops in to see Poppins\n",
      "\n",
      "Mary Poppins star Dame Julie Andrews watched the hit stage version of her classic film at a charity performance in London's West End.\n",
      "\n",
      "It was the first time Dame Julie, who shot to fame as the nanny in the 1964 Disney movie, had seen the musical, staged at the Prince Edward Theatre. She watched Laura Michelle Kelly, 23, reprise the role on stage. The show has been one of the West End's hottest tickets since opening in December, winning two Olivier Awards. Kelly was named best musical actress at last month's ceremony and the musical also won best choreography.\n",
      "\n",
      "But Kelly said she was \"very nervous\" about meeting Dame Julie \n",
      "\n",
      "\n",
      "GPT3 summary is :\n",
      " summarize : dame julie pops in to see poppins mary poppins star dame julie andrews watched the hit stage version of her classic film at a charity performance in london's west end. it was the first time dame julie, who shot to fame as the nanny in the 1964 disney movie, had seen the musical, staged at the prince edward theatre. she watched laura michelle kelly, 23, reprise the role on stage. the show has been one of the west end's hottest tickets since opening in december, winning two olivier awards. kelly was named best musical actress at last month's ceremony and the musical also won best choreography. but kelly said she was \" very nervous \" about meeting dame julie because she was \" my \" \n",
      "\n",
      "\n",
      "Real summary is:\n",
      " But Kelly said she was \"very nervous\" about meeting Dame Julie because she was \"my absolute hero\".Mary Poppins star Dame Julie Andrews watched the hit stage version of her classic film at a charity performance in London's West End.It was the first time Dame Julie, who shot to fame as the nanny in the 1964 Disney movie, had seen the musical, staged at the Prince Edward Theatre.The gala performance saw Dame Julie, 69, return to the theatre where she had her first starring role in a performance of Humpty Dumpty in 1948.\n"
     ]
    }
   ],
   "source": [
    "print(\"LexRank summary is :\\n\", lxr_summary[0], '\\n\\n\\n'\"GPT2 summary is :\\n\", GPT2_summary[0], \"\\n\\n\\n\"\"GPT3 summary is :\\n\", GPT3_summary[0], \"\\n\\n\\n\"\"Real summary is:\\n\",\n",
    "     news_summary_list[0])\n"
   ]
  },
  {
   "cell_type": "code",
   "execution_count": 73,
   "id": "f3fbe0c4-b331-49b1-833e-79ccca65b0af",
   "metadata": {},
   "outputs": [
    {
     "name": "stdout",
     "output_type": "stream",
     "text": [
      "0.5441176470588235\n",
      "0.4065934065934066\n",
      "0.4654088001360706\n"
     ]
    }
   ],
   "source": [
    "print(scores_gpt3['rouge-1']['r'][0])\n",
    "print(scores_gpt3['rouge-1']['p'][0])\n",
    "print(scores_gpt3['rouge-1']['f'][0])"
   ]
  },
  {
   "cell_type": "code",
   "execution_count": 47,
   "id": "f2523c44-40d8-40fc-a7b5-b1ff84c8c042",
   "metadata": {},
   "outputs": [
    {
     "name": "stdout",
     "output_type": "stream",
     "text": [
      "LexRank summary is :\n",
      " The fourth series of the show peaked on Monday at 11.9m and 49.2% of the audience, just before Joe Pasquale won.Pasquale follows Kerry McFadden, Phil Tufnell and Tony Blackburn as winners of the show.Singer and TV presenter McFadden was the show's first female winner.This compared with a peak of 15.3m at and a record 62.2% of the TV audience when Kerry McFadden won in February. \n",
      "\n",
      "\n",
      "GPT2 summary is :\n",
      " summarize: Jungle TV show ratings drop by 4m\n",
      "\n",
      "The finale of ITV1's I'm a Celebrity... Get Me Out of Here drew an average of 10.9m viewers - about four million fewer than the previous series.\n",
      "\n",
      "The fourth series of the show peaked on Monday at 11.9m and 49.2% of the audience, just before Joe Pasquale won. This compared with a peak of 15.3m at and a record 62.2% of the TV audience when Kerry McFadden won in February. Comic Pasquale beat former Royal butler Paul Burrell who came second, nightclub owner Fran Cosgrave, who was third. Pasquale follows Kerry McFadden, Phil Tufnell \n",
      "\n",
      "\n",
      "GPT3 summary is :\n",
      " summarize : jungle tv show ratings drop by 4m the finale of itv1's i'm a celebrity... get me out of here drew an average of 10. 9m viewers - about four million fewer than the previous series. the fourth series of the show peaked on monday at 11. 9m and 49. 2 % of the audience, just before joe pasquale won. this compared with a peak of 15. 3m at and a record 62. 2 % of the tv audience when kerry mcfadden won in february. comic pasquale beat former royal butler paul burrell who came second, nightclub owner fran cosgrave, who was third. pasquale follows kerry mcfadden, phil mc \n",
      "\n",
      "\n",
      "Real summary is:\n",
      " Pasquale follows Kerry McFadden, Phil Tufnell and Tony Blackburn as winners of the show.Singer and TV presenter McFadden was the show's first female winner.And when Tony Blackburn won the first show in 2002, 10.9 million people saw the show.\"He wants to play the West End and do different things other than straightforward comedy.The fourth series of the show peaked on Monday at 11.9m and 49.2% of the audience, just before Joe Pasquale won.Before joining I'm a Celebrity, he had signed up to play Jack in Jack and the Beanstalk in Birmingham, and tickets for the show have become increasingly popular since he joined the TV show.This compared with a peak of 15.3m at and a record 62.2% of the TV audience when Kerry McFadden won in February.\n"
     ]
    }
   ],
   "source": [
    "print(\"LexRank summary is :\\n\", lxr_summary[23], '\\n\\n\\n'\"GPT2 summary is :\\n\", GPT2_summary[23], \"\\n\\n\\n\"\"GPT3 summary is :\\n\", GPT3_summary[23], \"\\n\\n\\n\"\"Real summary is:\\n\",\n",
    "     news_summary_list[23])\n"
   ]
  },
  {
   "cell_type": "code",
   "execution_count": 76,
   "id": "0b0eb26d-8cdc-4e8d-974a-422456725072",
   "metadata": {},
   "outputs": [
    {
     "name": "stdout",
     "output_type": "stream",
     "text": [
      "0.3516483516483517\n",
      "0.38095238095238093\n",
      "0.36571428072228573\n",
      "\n",
      "\n",
      "\n",
      "\n",
      "0.5054945054945055\n",
      "0.5542168674698795\n",
      "0.5287356271944775\n"
     ]
    }
   ],
   "source": [
    "print(scores_gpt3['rouge-1']['r'][23])\n",
    "print(scores_gpt3['rouge-1']['p'][23])\n",
    "print(scores_gpt3['rouge-1']['f'][23])\n",
    "print('\\n\\n\\n')\n",
    "print(scores_gpt2['rouge-1']['r'][23])\n",
    "print(scores_gpt2['rouge-1']['p'][23])\n",
    "print(scores_gpt2['rouge-1']['f'][23])"
   ]
  },
  {
   "cell_type": "markdown",
   "id": "43cdc420-6e96-4945-b6e5-473d4117c238",
   "metadata": {
    "jp-MarkdownHeadingCollapsed": true,
    "tags": []
   },
   "source": [
    "# BertScore"
   ]
  },
  {
   "cell_type": "code",
   "execution_count": 14,
   "id": "31b8b13f-2bb0-4b9d-a118-41804f4bae7a",
   "metadata": {},
   "outputs": [
    {
     "name": "stderr",
     "output_type": "stream",
     "text": [
      "Some weights of RobertaModel were not initialized from the model checkpoint at roberta-large and are newly initialized: ['roberta.pooler.dense.bias', 'roberta.pooler.dense.weight']\n",
      "You should probably TRAIN this model on a down-stream task to be able to use it for predictions and inference.\n"
     ]
    }
   ],
   "source": [
    "from bert_score import score\n",
    "\n",
    "hypotheses = [\"A brown fox jumps over a dog\"]\n",
    "references = [\"A quick brown dog jumps over the lazy fox\"]\n",
    "P, R, F1 = score(hypotheses, references, model_type = 'roberta-large')"
   ]
  },
  {
   "cell_type": "code",
   "execution_count": 48,
   "id": "d768a06a-8cb1-4abf-b274-7b897a1510fd",
   "metadata": {},
   "outputs": [
    {
     "name": "stdout",
     "output_type": "stream",
     "text": [
      "5 6 6\n"
     ]
    },
    {
     "name": "stderr",
     "output_type": "stream",
     "text": [
      "Some weights of RobertaModel were not initialized from the model checkpoint at roberta-large and are newly initialized: ['roberta.pooler.dense.bias', 'roberta.pooler.dense.weight']\n",
      "You should probably TRAIN this model on a down-stream task to be able to use it for predictions and inference.\n",
      "Warning: Empty candidate sentence detected; setting raw BERTscores to 0.\n",
      "Warning: Empty reference sentence detected; setting raw BERTScores to 0.\n",
      "Some weights of RobertaModel were not initialized from the model checkpoint at roberta-large and are newly initialized: ['roberta.pooler.dense.bias', 'roberta.pooler.dense.weight']\n",
      "You should probably TRAIN this model on a down-stream task to be able to use it for predictions and inference.\n",
      "Warning: Empty reference sentence detected; setting raw BERTScores to 0.\n",
      "Some weights of RobertaModel were not initialized from the model checkpoint at roberta-large and are newly initialized: ['roberta.pooler.dense.bias', 'roberta.pooler.dense.weight']\n",
      "You should probably TRAIN this model on a down-stream task to be able to use it for predictions and inference.\n"
     ]
    },
    {
     "name": "stdout",
     "output_type": "stream",
     "text": [
      "(tensor([0.8138, 0.8390, 1.0000, 1.0000, 0.0000, 0.0000]), tensor([0.8315, 0.8198, 1.0000, 1.0000, 0.0000, 0.0000]), tensor([0.8226, 0.8293, 1.0000, 1.0000, 0.0000, 0.0000])) \n",
      "\n",
      "\n",
      " (tensor([0.8115, 0.8581, 0.8677, 0.8395, 0.0000, 0.0000]), tensor([0.8251, 0.8499, 0.8475, 0.8443, 0.0000, 0.0000]), tensor([0.8182, 0.8540, 0.8575, 0.8419, 0.0000, 0.0000])) \n",
      "\n",
      "\n",
      " (tensor([0.7995, 0.8337, 0.8438, 0.8278, 0.0000, 0.0000]), tensor([0.8273, 0.8428, 0.8430, 0.8404, 0.0000, 0.0000]), tensor([0.8131, 0.8382, 0.8434, 0.8340, 0.0000, 0.0000]))\n"
     ]
    },
    {
     "name": "stderr",
     "output_type": "stream",
     "text": [
      "Warning: Empty reference sentence detected; setting raw BERTScores to 0.\n"
     ]
    }
   ],
   "source": [
    "berts_lxr = {'r': [], 'p': [], 'f': []}\n",
    "berts_gpt2= {'r': [], 'p': [], 'f': []}\n",
    "berts_gpt3= {'r': [], 'p': [], 'f': []}\n",
    "\n",
    "summary = news_summary_list[0].split('.')\n",
    "\n",
    "\n",
    "\n",
    "lxr_s = lxr_summary[0].split('.')\n",
    "gpt2_s = GPT2_summary[0].split('.')\n",
    "gpt3_s = GPT3_summary[0].split('.')\n",
    "print(len(lxr_s), len(gpt2_s), len(gpt3_s))\n",
    "\n",
    "\n",
    "summary.append('')\n",
    "lxr_s.append('')\n",
    "# print(gpt2_s, \"\\n\\n\\n\", summary)\n",
    "\n",
    "bert_lxr = score(lxr_s, summary, lang='en')\n",
    "bert_gpt2 = score(gpt2_s, summary, lang='en')\n",
    "bert_gpt3 = score(gpt3_s, summary, lang='en')\n",
    "\n",
    "print(bert_lxr, \"\\n\\n\\n\", bert_gpt2, \"\\n\\n\\n\", bert_gpt3)\n",
    "\n"
   ]
  },
  {
   "cell_type": "code",
   "execution_count": 63,
   "id": "ae43f364-32d0-4b65-860b-1c1352dbb709",
   "metadata": {},
   "outputs": [
    {
     "name": "stdout",
     "output_type": "stream",
     "text": [
      "Bert lxr score: tensor([0.6088, 0.6085, 0.6086])\n",
      "Bert gpt2 score: tensor([0.5628, 0.5611, 0.5619])\n",
      "Bert gpt3 score: tensor([0.5508, 0.5589, 0.5548])\n"
     ]
    }
   ],
   "source": [
    "axis = 0\n",
    "\n",
    "# Calculate mean along the specified axis\n",
    "tlxr = torch.stack(bert_lxr, dim=1)\n",
    "mean_bert_lxr  = torch.mean(tlxr, axis=0)\n",
    "\n",
    "# Print the mean values\n",
    "print(\"Bert lxr score\"\":\", mean_bert_lxr)\n",
    "\n",
    "# Calculate mean along the specified axis\n",
    "tgpt2 = torch.stack(bert_gpt2, dim=1)\n",
    "mean_bert_gpt2  = torch.mean(tgpt2, axis=0)\n",
    "\n",
    "# Print the mean values\n",
    "print(\"Bert gpt2 score\"\":\", mean_bert_gpt2)\n",
    "\n",
    "# Calculate mean along the specified axis\n",
    "tgpt3 = torch.stack(bert_gpt3, dim=1)\n",
    "mean_bert_gpt3  = torch.mean(tgpt3, axis=0)\n",
    "\n",
    "# Print the mean values\n",
    "print(\"Bert gpt3 score\"\":\", mean_bert_gpt3)"
   ]
  }
 ],
 "metadata": {
  "kernelspec": {
   "display_name": "Python 3 (ipykernel)",
   "language": "python",
   "name": "python3"
  },
  "language_info": {
   "codemirror_mode": {
    "name": "ipython",
    "version": 3
   },
   "file_extension": ".py",
   "mimetype": "text/x-python",
   "name": "python",
   "nbconvert_exporter": "python",
   "pygments_lexer": "ipython3",
   "version": "3.10.12"
  }
 },
 "nbformat": 4,
 "nbformat_minor": 5
}
