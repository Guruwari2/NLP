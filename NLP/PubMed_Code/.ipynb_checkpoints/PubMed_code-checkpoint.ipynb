{
 "cells": [
  {
   "cell_type": "code",
   "execution_count": 16,
   "id": "f0bf1019-e367-404f-ba2c-79b83f05c07f",
   "metadata": {},
   "outputs": [],
   "source": [
    "# For data processing\n",
    "import numpy as np\n",
    "import pandas as pd\n",
    "\n",
    "import seaborn as sns\n",
    "import matplotlib.pyplot as plt\n",
    "\n",
    "import os\n",
    "from glob import glob\n",
    "from tqdm import tqdm, tqdm_notebook\n",
    "\n",
    "import gc\n",
    "import pickle\n",
    "import warnings\n",
    "warnings.filterwarnings(\"ignore\")"
   ]
  },
  {
   "cell_type": "code",
   "execution_count": 3,
   "id": "54fc527e-1fa0-48fa-9b68-56c033e545d7",
   "metadata": {},
   "outputs": [],
   "source": [
    "from transformers import AutoModelForSeq2SeqLM, AutoTokenizer, AutoModelWithLMHead\n",
    "import torch\n",
    "import time"
   ]
  },
  {
   "cell_type": "code",
   "execution_count": 4,
   "id": "cb6b0b9c-793b-4510-bbd8-ef24291d3673",
   "metadata": {},
   "outputs": [
    {
     "name": "stdout",
     "output_type": "stream",
     "text": [
      "4.37.0\n"
     ]
    }
   ],
   "source": [
    "import transformers\n",
    "print(transformers.__version__)"
   ]
  },
  {
   "cell_type": "code",
   "execution_count": 6,
   "id": "72a4f9ed-a1d9-48d6-8e44-2775f10f52e3",
   "metadata": {},
   "outputs": [],
   "source": [
    "df = pd.read_csv('PubMed/validation.csv')"
   ]
  },
  {
   "cell_type": "code",
   "execution_count": 8,
   "id": "e2772e90-7fd1-4619-b7fc-bbe1cb44023b",
   "metadata": {},
   "outputs": [
    {
     "name": "stdout",
     "output_type": "stream",
     "text": [
      "6633 6633\n"
     ]
    }
   ],
   "source": [
    "news_article_list = df['article']\n",
    "news_summary_list = df['abstract']\n",
    "print(len(news_article_list), len(news_summary_list))"
   ]
  },
  {
   "cell_type": "markdown",
   "id": "025771a8-c848-4855-b5e7-11ee43aedc40",
   "metadata": {
    "jp-MarkdownHeadingCollapsed": true,
    "tags": []
   },
   "source": [
    "# Lexrank"
   ]
  },
  {
   "cell_type": "code",
   "execution_count": 9,
   "id": "7383347c-6286-45ba-99cd-55316a492b16",
   "metadata": {},
   "outputs": [
    {
     "name": "stderr",
     "output_type": "stream",
     "text": [
      "[nltk_data] Downloading package punkt to /home/chinois/nltk_data...\n",
      "[nltk_data]   Package punkt is already up-to-date!\n"
     ]
    }
   ],
   "source": [
    "import nltk\n",
    "nltk.download('punkt')\n",
    "\n",
    "from nltk.tokenize import sent_tokenize\n",
    "from lexrank import STOPWORDS, LexRank\n"
   ]
  },
  {
   "cell_type": "code",
   "execution_count": 12,
   "id": "af946d60-82d1-4b2c-bdd3-b1cadac8bbc5",
   "metadata": {},
   "outputs": [
    {
     "name": "stderr",
     "output_type": "stream",
     "text": [
      "100%|████████████████████████████████████████| 200/200 [00:00<00:00, 614.24it/s]\n"
     ]
    }
   ],
   "source": [
    "sentences = sent_tokenize(news_article_list[0])\n",
    "documents = []\n",
    "for article in tqdm(news_article_list[:200]) :\n",
    "    documents.append(sent_tokenize(article))\n",
    "lxr = LexRank(documents)\n"
   ]
  },
  {
   "cell_type": "code",
   "execution_count": 14,
   "id": "a0d5f47b-886a-48aa-8b44-996e5727917b",
   "metadata": {},
   "outputs": [
    {
     "name": "stderr",
     "output_type": "stream",
     "text": [
      "100%|█████████████████████████████████████████| 200/200 [00:26<00:00,  7.52it/s]"
     ]
    },
    {
     "name": "stdout",
     "output_type": "stream",
     "text": [
      "venous thromboembolism ( vte ) comprising of deep vein thrombosis ( dvt ) and pulmonary embolism ( pe ) can result in significant mortality , morbidity , and healthcare expenditure .approximately , one - third of patients with symptomatic vte manifests pe , whereas two - thirds manifest dvt alone .of those diagnosed beyond 6 weeks \n",
      " diagnosis of venous thromboembolism during the postoperative period ( n = 81 ) the most common ( 73% ) symptom was  swelling of the limb  among patients with vte [ table 6 ] \n",
      " pe was confirmed by pulmonary angiography in 27% of all the patients [ table 7 ] .patients with a history of vte are about 8 times more likely to develop a new episode during a subsequent high - risk period compared with patients without a history of dvt or pe .\n",
      "0.17928504943847656\n"
     ]
    },
    {
     "name": "stderr",
     "output_type": "stream",
     "text": [
      "\n"
     ]
    }
   ],
   "source": [
    "lxr_summary = []\n",
    "lxr_times = []\n",
    "for article in tqdm(news_article_list[:200]):\n",
    "    start = time.time()\n",
    "    sentences = sent_tokenize(article)\n",
    "    summary_sentences = lxr.get_summary(sentences, summary_size= 4,threshold=0.03)\n",
    "    summary = ''.join(summary_sentences)\n",
    "    lxr_summary.append(summary)\n",
    "    end = time.time()\n",
    "    lxr_times.append(end-start)\n",
    "print(lxr_summary[0])\n",
    "print(lxr_times[0])"
   ]
  },
  {
   "cell_type": "code",
   "execution_count": 17,
   "id": "ddfb7f11-64af-48d3-847f-0bd28a7be904",
   "metadata": {},
   "outputs": [
    {
     "name": "stdout",
     "output_type": "stream",
     "text": [
      "The list has been saved to lxr_summaries.pkl\n"
     ]
    }
   ],
   "source": [
    "# Specify the file name\n",
    "file_name = 'lxr_summaries.pkl'\n",
    "\n",
    "# Open the file in binary write mode\n",
    "with open(file_name, 'wb') as file:\n",
    "    # Use pickle.dump to save the list to the file\n",
    "    pickle.dump(lxr_summary, file)\n",
    "\n",
    "print(f'The list has been saved to {file_name}')"
   ]
  },
  {
   "cell_type": "code",
   "execution_count": 18,
   "id": "fea7ba98-167c-4b68-99d6-0555f24ef3ff",
   "metadata": {},
   "outputs": [
    {
     "name": "stdout",
     "output_type": "stream",
     "text": [
      "The list has been saved to lxr_times.pkl\n"
     ]
    }
   ],
   "source": [
    "# Specify the file name\n",
    "file_name = 'lxr_times.pkl'\n",
    "\n",
    "# Open the file in binary write mode\n",
    "with open(file_name, 'wb') as file:\n",
    "    # Use pickle.dump to save the list to the file\n",
    "    pickle.dump(lxr_times, file)\n",
    "\n",
    "print(f'The list has been saved to {file_name}')"
   ]
  },
  {
   "cell_type": "markdown",
   "id": "bc809b25-a41b-4a8e-bdbc-291cdffa003a",
   "metadata": {
    "jp-MarkdownHeadingCollapsed": true,
    "tags": []
   },
   "source": [
    "# GPT2\n"
   ]
  },
  {
   "cell_type": "code",
   "execution_count": 19,
   "id": "4cb70dab-5a72-4c4d-bf9a-3562993e0f5d",
   "metadata": {},
   "outputs": [],
   "source": [
    "model = AutoModelWithLMHead.from_pretrained('gpt2')\n",
    "tokenizer = AutoTokenizer.from_pretrained(\"gpt2\")\n"
   ]
  },
  {
   "cell_type": "code",
   "execution_count": 21,
   "id": "b8aef545-b7f0-40f5-b087-62f4dc632848",
   "metadata": {},
   "outputs": [
    {
     "name": "stderr",
     "output_type": "stream",
     "text": [
      "100%|█████████████████████████████████████████| 200/200 [02:39<00:00,  1.25it/s]"
     ]
    },
    {
     "name": "stdout",
     "output_type": "stream",
     "text": [
      "summarize: venous thromboembolism ( vte ) comprising of deep vein thrombosis ( dvt ) and pulmonary embolism ( pe ) can result in significant mortality, morbidity, and healthcare expenditure. \n",
      " approximately, one - third of patients with symptomatic vte manifests pe, whereas two - thirds manifest dvt alone. \n",
      " both dvt and pe can be clinically silent ( asymptomatic ) and hence not suspected. \n",
      " if undiagnosed, asymptomatic vte can lead to chronic venous disease or recurrent vte and long - term debilitating sequelae such as postthrombotic syndrome and chronic thromboembolic pulmonary hypertension. \n",
      "\n",
      " \n",
      " 200\n"
     ]
    },
    {
     "name": "stderr",
     "output_type": "stream",
     "text": [
      "\n"
     ]
    }
   ],
   "source": [
    "GPT2_times = []\n",
    "GPT2_summary = []\n",
    "for article in tqdm(news_article_list[:200]):\n",
    "    start = time.time()\n",
    "    inputs = tokenizer.encode(\"summarize: \" + article, return_tensors=\"pt\", max_length=149)\n",
    "    # add attention mask here\n",
    "    \n",
    "    outputs = model.generate(inputs, pad_token_id=tokenizer.eos_token_id, max_length=150, min_length=40, length_penalty=2.0, num_beams=4, early_stopping=True)\n",
    "    decoded_GPT2 = tokenizer.decode(outputs[0])\n",
    "    GPT2_summary.append(decoded_GPT2)\n",
    "    end = time.time()\n",
    "    GPT2_times.append(end-start)\n",
    "print(GPT2_summary[0], '\\n', len(GPT2_summary))"
   ]
  },
  {
   "cell_type": "code",
   "execution_count": 22,
   "id": "efe91a88-c2ea-486a-b361-7fc16f59e3ab",
   "metadata": {},
   "outputs": [
    {
     "name": "stdout",
     "output_type": "stream",
     "text": [
      "The list has been saved to GPT2_summaries.pkl\n"
     ]
    }
   ],
   "source": [
    "# Specify the file name\n",
    "file_name = 'GPT2_summaries.pkl'\n",
    "\n",
    "# Open the file in binary write mode\n",
    "with open(file_name, 'wb') as file:\n",
    "    # Use pickle.dump to save the list to the file\n",
    "    pickle.dump(GPT2_summary, file)\n",
    "\n",
    "print(f'The list has been saved to {file_name}')\n"
   ]
  },
  {
   "cell_type": "code",
   "execution_count": 23,
   "id": "32ca0ff0-3782-473c-b20f-8a5ed857e489",
   "metadata": {},
   "outputs": [
    {
     "name": "stdout",
     "output_type": "stream",
     "text": [
      "The list has been saved to GPT2_times.pkl\n"
     ]
    }
   ],
   "source": [
    "import pickle\n",
    "\n",
    "# Specify the file name\n",
    "file_name = 'GPT2_times.pkl'\n",
    "\n",
    "# Open the file in binary write mode\n",
    "with open(file_name, 'wb') as file:\n",
    "    # Use pickle.dump to save the list to the file\n",
    "    pickle.dump(GPT2_times, file)\n",
    "\n",
    "print(f'The list has been saved to {file_name}')\n"
   ]
  },
  {
   "cell_type": "markdown",
   "id": "c721df96-1fec-42ca-a8b5-a7d4527eeb36",
   "metadata": {
    "jp-MarkdownHeadingCollapsed": true,
    "tags": []
   },
   "source": [
    "# GPT3\n"
   ]
  },
  {
   "cell_type": "code",
   "execution_count": 24,
   "id": "c555e312-4a60-4b3d-8e54-fb6a9aec5c11",
   "metadata": {},
   "outputs": [],
   "source": [
    "model = AutoModelWithLMHead.from_pretrained('openai-gpt')\n",
    "tokenizer = AutoTokenizer.from_pretrained(\"openai-gpt\")"
   ]
  },
  {
   "cell_type": "code",
   "execution_count": 25,
   "id": "70959873-275b-41d8-b170-dd32d1d18174",
   "metadata": {},
   "outputs": [
    {
     "name": "stderr",
     "output_type": "stream",
     "text": [
      "  0%|                                                   | 0/500 [00:00<?, ?it/s]Truncation was not explicitly activated but `max_length` is provided a specific value, please use `truncation=True` to explicitly truncate examples to max length. Defaulting to 'longest_first' truncation strategy. If you encode pairs of sequences (GLUE-style) with the tokenizer you can select this strategy more precisely by providing a specific strategy to `truncation`.\n",
      "100%|█████████████████████████████████████████| 500/500 [07:49<00:00,  1.07it/s]"
     ]
    },
    {
     "name": "stdout",
     "output_type": "stream",
     "text": [
      "summarize : venous thromboembolism ( vte ) comprising of deep vein thrombosis ( dvt ) and pulmonary embolism ( pe ) can result in significant mortality, morbidity, and healthcare expenditure. approximately, one - third of patients with symptomatic vte manifests pe, whereas two - thirds manifest dvt alone. both dvt and pe can be clinically silent ( asymptomatic ) and hence not suspected. if undiagnosed, asymptomatic vte can lead to chronic venous disease or recurrent vte and long - term debilitating sequelae such as postthrombotic syndrome and chronic thromboembolic pulmonary hypertension \n",
      " 500\n"
     ]
    },
    {
     "name": "stderr",
     "output_type": "stream",
     "text": [
      "\n"
     ]
    }
   ],
   "source": [
    "GPT3_times = []\n",
    "GPT3_summary = []\n",
    "for article in tqdm(news_article_list[:500]):\n",
    "    start = time.time()\n",
    "    inputs = tokenizer.encode(\"summarize: \" + article, return_tensors=\"pt\", max_length=149)\n",
    "    # add attention mask here\n",
    "    \n",
    "    outputs = model.generate(inputs, pad_token_id=tokenizer.eos_token_id, max_length=150, min_length=40, length_penalty=2.0, num_beams=4, early_stopping=True)\n",
    "    decoded_GPT3 = tokenizer.decode(outputs[0])\n",
    "    GPT3_summary.append(decoded_GPT3)\n",
    "    end = time.time()\n",
    "    GPT3_times.append(end-start)\n",
    "print(GPT3_summary[0], '\\n', len(GPT3_summary))"
   ]
  },
  {
   "cell_type": "code",
   "execution_count": 26,
   "id": "9153b0a9-81eb-407c-9f5f-4640cd4dacd8",
   "metadata": {},
   "outputs": [
    {
     "name": "stdout",
     "output_type": "stream",
     "text": [
      "The list has been saved to GPT3_summaries.pkl\n"
     ]
    }
   ],
   "source": [
    "# Specify the file name\n",
    "file_name = 'GPT3_summaries.pkl'\n",
    "\n",
    "# Open the file in binary write mode\n",
    "with open(file_name, 'wb') as file:\n",
    "    # Use pickle.dump to save the list to the file\n",
    "    pickle.dump(GPT3_summary, file)\n",
    "\n",
    "print(f'The list has been saved to {file_name}')"
   ]
  },
  {
   "cell_type": "code",
   "execution_count": 27,
   "id": "1804ae7f-756b-4a40-9a9f-06cc033630bc",
   "metadata": {},
   "outputs": [
    {
     "name": "stdout",
     "output_type": "stream",
     "text": [
      "The list has been saved to GPT3_times.pkl\n"
     ]
    }
   ],
   "source": [
    "# Specify the file name\n",
    "file_name = 'GPT3_times.pkl'\n",
    "\n",
    "# Open the file in binary write mode\n",
    "with open(file_name, 'wb') as file:\n",
    "    # Use pickle.dump to save the list to the file\n",
    "    pickle.dump(GPT3_times, file)\n",
    "\n",
    "print(f'The list has been saved to {file_name}')\n"
   ]
  },
  {
   "cell_type": "markdown",
   "id": "d9f94de8-66d6-4353-aabb-c3e766882ee0",
   "metadata": {
    "tags": []
   },
   "source": [
    "# Analysis"
   ]
  },
  {
   "cell_type": "code",
   "execution_count": 28,
   "id": "9f803722-8ba2-4b7c-961d-ff9e081b6c0e",
   "metadata": {},
   "outputs": [],
   "source": [
    "import statistics"
   ]
  },
  {
   "cell_type": "code",
   "execution_count": 29,
   "id": "20dc44d6-6f93-4e14-a7a8-6ccfc625ca57",
   "metadata": {},
   "outputs": [],
   "source": [
    "from rouge import Rouge\n",
    "\n",
    "# Calculate ROUGE scores for each pair of system and reference summaries\n",
    "def calculate_rouge(system_summary, reference_summary):\n",
    "    evaluator = Rouge()\n",
    "    scores = evaluator.get_scores(system_summary, reference_summary)\n",
    "    return scores"
   ]
  },
  {
   "cell_type": "code",
   "execution_count": 31,
   "id": "f66e6237-8c18-4ef7-af7b-30585168c004",
   "metadata": {},
   "outputs": [
    {
     "name": "stderr",
     "output_type": "stream",
     "text": [
      "200it [00:08, 24.28it/s]\n"
     ]
    }
   ],
   "source": [
    "scores_lxr = {'rouge-1': {'r': [], 'p': [], 'f': []}, 'rouge-2': {'r': [], 'p': [], 'f': []}, 'rouge-l': {'r': [], 'p': [], 'f': []}}\n",
    "scores_gpt2= {'rouge-1': {'r': [], 'p': [], 'f': []}, 'rouge-2': {'r': [], 'p': [], 'f': []}, 'rouge-l': {'r': [], 'p': [], 'f': []}}\n",
    "scores_gpt3= {'rouge-1': {'r': [], 'p': [], 'f': []}, 'rouge-2': {'r': [], 'p': [], 'f': []}, 'rouge-l': {'r': [], 'p': [], 'f': []}}\n",
    "\n",
    "for index, summary in tqdm(enumerate(news_summary_list[:200])):\n",
    "    score_lxr = calculate_rouge(lxr_summary[index], summary)\n",
    "    score_gpt2 = calculate_rouge(GPT2_summary[index], summary)\n",
    "    score_gpt3 = calculate_rouge(GPT3_summary[index], summary)\n",
    "\n",
    "    scores_lxr['rouge-1']['r'].append(score_lxr[0]['rouge-1']['r'])\n",
    "    scores_lxr['rouge-1']['p'].append(score_lxr[0]['rouge-1']['p'])\n",
    "    scores_lxr['rouge-1']['f'].append(score_lxr[0]['rouge-1']['f'])\n",
    "    \n",
    "    scores_lxr['rouge-2']['r'].append(score_lxr[0]['rouge-2']['r'])\n",
    "    scores_lxr['rouge-2']['p'].append(score_lxr[0]['rouge-2']['p'])\n",
    "    scores_lxr['rouge-2']['f'].append(score_lxr[0]['rouge-2']['f'])\n",
    "\n",
    "    scores_lxr['rouge-l']['r'].append(score_lxr[0]['rouge-l']['r'])\n",
    "    scores_lxr['rouge-l']['p'].append(score_lxr[0]['rouge-l']['p'])\n",
    "    scores_lxr['rouge-l']['f'].append(score_lxr[0]['rouge-l']['f'])\n",
    "    \n",
    "    scores_gpt2['rouge-1']['r'].append(score_gpt2[0]['rouge-1']['r'])\n",
    "    scores_gpt2['rouge-1']['p'].append(score_gpt2[0]['rouge-1']['p'])\n",
    "    scores_gpt2['rouge-1']['f'].append(score_gpt2[0]['rouge-1']['f'])\n",
    "    \n",
    "    scores_gpt2['rouge-2']['r'].append(score_gpt2[0]['rouge-2']['r'])\n",
    "    scores_gpt2['rouge-2']['p'].append(score_gpt2[0]['rouge-2']['p'])\n",
    "    scores_gpt2['rouge-2']['f'].append(score_gpt2[0]['rouge-2']['f'])\n",
    "\n",
    "    scores_gpt2['rouge-l']['r'].append(score_gpt2[0]['rouge-l']['r'])\n",
    "    scores_gpt2['rouge-l']['p'].append(score_gpt2[0]['rouge-l']['p'])\n",
    "    scores_gpt2['rouge-l']['f'].append(score_gpt2[0]['rouge-l']['f'])\n",
    "    \n",
    "    scores_gpt3['rouge-1']['r'].append(score_gpt3[0]['rouge-1']['r'])\n",
    "    scores_gpt3['rouge-1']['p'].append(score_gpt3[0]['rouge-1']['p'])\n",
    "    scores_gpt3['rouge-1']['f'].append(score_gpt3[0]['rouge-1']['f'])\n",
    "    \n",
    "    scores_gpt3['rouge-2']['r'].append(score_gpt3[0]['rouge-2']['r'])\n",
    "    scores_gpt3['rouge-2']['p'].append(score_gpt3[0]['rouge-2']['p'])\n",
    "    scores_gpt3['rouge-2']['f'].append(score_gpt3[0]['rouge-2']['f'])\n",
    "\n",
    "    scores_gpt3['rouge-l']['r'].append(score_gpt3[0]['rouge-l']['r'])\n",
    "    scores_gpt3['rouge-l']['p'].append(score_gpt3[0]['rouge-l']['p'])\n",
    "    scores_gpt3['rouge-l']['f'].append(score_gpt3[0]['rouge-l']['f'])\n",
    "\n",
    "\n",
    "    "
   ]
  },
  {
   "cell_type": "code",
   "execution_count": 32,
   "id": "0efce278-ef92-4beb-b4bf-ea7ac810fcce",
   "metadata": {},
   "outputs": [],
   "source": [
    "mean_lxr = {'rouge-1': {'r': 0, 'p': 0, 'f': 0}, 'rouge-2': {'r': 0, 'p': 0, 'f': 0}, 'rouge-l': {'r': 0, 'p': 0, 'f': 0}}\n",
    "\n",
    "mean_lxr['rouge-1']['r'] = statistics.mean(scores_lxr['rouge-1']['r'])\n",
    "mean_lxr['rouge-1']['p'] = statistics.mean(scores_lxr['rouge-1']['p'])\n",
    "mean_lxr['rouge-1']['f'] = statistics.mean(scores_lxr['rouge-1']['f'])\n",
    "\n",
    "mean_lxr['rouge-2']['r'] = statistics.mean(scores_lxr['rouge-2']['r'])\n",
    "mean_lxr['rouge-2']['p'] = statistics.mean(scores_lxr['rouge-2']['p'])\n",
    "mean_lxr['rouge-2']['f'] = statistics.mean(scores_lxr['rouge-2']['f'])\n",
    "\n",
    "mean_lxr['rouge-l']['r'] = statistics.mean(scores_lxr['rouge-l']['r'])\n",
    "mean_lxr['rouge-l']['p'] = statistics.mean(scores_lxr['rouge-l']['p'])\n",
    "mean_lxr['rouge-l']['f'] = statistics.mean(scores_lxr['rouge-l']['f'])"
   ]
  },
  {
   "cell_type": "code",
   "execution_count": 33,
   "id": "e8e06757-a8bf-44b3-b51a-56ee694619d6",
   "metadata": {},
   "outputs": [
    {
     "name": "stdout",
     "output_type": "stream",
     "text": [
      "{'rouge-1': {'r': 0.35050325617946965, 'p': 0.4018565311046738, 'f': 0.355270357817134}, 'rouge-2': {'r': 0.1318958302956287, 'p': 0.15530458509841868, 'f': 0.13212302963014844}, 'rouge-l': {'r': 0.30753408414522365, 'p': 0.3551126868505506, 'f': 0.31258070228710805}}\n"
     ]
    }
   ],
   "source": [
    "print(mean_lxr)"
   ]
  },
  {
   "cell_type": "code",
   "execution_count": 35,
   "id": "e0864f27-750d-4346-af58-ebf469ada714",
   "metadata": {},
   "outputs": [],
   "source": [
    "mean_gpt2 = {'rouge-1': {'r': 0, 'p': 0, 'f': 0}, 'rouge-2': {'r': 0, 'p': 0, 'f': 0}, 'rouge-l': {'r': 0, 'p': 0, 'f': 0}}\n",
    "\n",
    "mean_gpt2['rouge-1']['r'] = statistics.mean(scores_gpt2['rouge-1']['r'])\n",
    "mean_gpt2['rouge-1']['p'] = statistics.mean(scores_gpt2['rouge-1']['p'])\n",
    "mean_gpt2['rouge-1']['f'] = statistics.mean(scores_gpt2['rouge-1']['f'])\n",
    "\n",
    "mean_gpt2['rouge-2']['r'] = statistics.mean(scores_gpt2['rouge-2']['r'])\n",
    "mean_gpt2['rouge-2']['p'] = statistics.mean(scores_gpt2['rouge-2']['p'])\n",
    "mean_gpt2['rouge-2']['f'] = statistics.mean(scores_gpt2['rouge-2']['f'])\n",
    "\n",
    "mean_gpt2['rouge-l']['r'] = statistics.mean(scores_gpt2['rouge-l']['r'])\n",
    "mean_gpt2['rouge-l']['p'] = statistics.mean(scores_gpt2['rouge-l']['p'])\n",
    "mean_gpt2['rouge-l']['f'] = statistics.mean(scores_gpt2['rouge-l']['f'])"
   ]
  },
  {
   "cell_type": "code",
   "execution_count": 36,
   "id": "fbab74b7-c58c-4d9b-836b-ae9356123ce2",
   "metadata": {},
   "outputs": [
    {
     "name": "stdout",
     "output_type": "stream",
     "text": [
      "{'rouge-1': {'r': 0.2633249354772118, 'p': 0.34127232316167866, 'f': 0.2876986122251828}, 'rouge-2': {'r': 0.0891717227690447, 'p': 0.12780070858096076, 'f': 0.10049879000350255}, 'rouge-l': {'r': 0.23880439768933856, 'p': 0.3104499821969277, 'f': 0.26132438485658355}}\n"
     ]
    }
   ],
   "source": [
    "print(mean_gpt2)"
   ]
  },
  {
   "cell_type": "code",
   "execution_count": 37,
   "id": "a42b6db1-c77c-46fc-b267-9e0d89b6326f",
   "metadata": {},
   "outputs": [],
   "source": [
    "mean_gpt3 = {'rouge-1': {'r': 0, 'p': 0, 'f': 0}, 'rouge-2': {'r': 0, 'p': 0, 'f': 0}, 'rouge-l': {'r': 0, 'p': 0, 'f': 0}}\n",
    "\n",
    "mean_gpt3['rouge-1']['r'] = statistics.mean(scores_gpt3['rouge-1']['r'])\n",
    "mean_gpt3['rouge-1']['p'] = statistics.mean(scores_gpt3['rouge-1']['p'])\n",
    "mean_gpt3['rouge-1']['f'] = statistics.mean(scores_gpt3['rouge-1']['f'])\n",
    "\n",
    "mean_gpt3['rouge-2']['r'] = statistics.mean(scores_gpt3['rouge-2']['r'])\n",
    "mean_gpt3['rouge-2']['p'] = statistics.mean(scores_gpt3['rouge-2']['p'])\n",
    "mean_gpt2['rouge-2']['f'] = statistics.mean(scores_gpt3['rouge-2']['f'])\n",
    "\n",
    "mean_gpt3['rouge-l']['r'] = statistics.mean(scores_gpt3['rouge-l']['r'])\n",
    "mean_gpt3['rouge-l']['p'] = statistics.mean(scores_gpt3['rouge-l']['p'])\n",
    "mean_gpt3['rouge-l']['f'] = statistics.mean(scores_gpt3['rouge-l']['f'])"
   ]
  },
  {
   "cell_type": "code",
   "execution_count": 38,
   "id": "b162cf71-dab5-4f46-b5c3-ab116f65c3a3",
   "metadata": {},
   "outputs": [
    {
     "name": "stdout",
     "output_type": "stream",
     "text": [
      "{'rouge-1': {'r': 0.2641683357057878, 'p': 0.33274536088609497, 'f': 0.2847899219275952}, 'rouge-2': {'r': 0.08791174392199019, 'p': 0.1214134715796845, 'f': 0}, 'rouge-l': {'r': 0.23926692466221966, 'p': 0.3019736690741397, 'f': 0.2581903368551379}}\n"
     ]
    }
   ],
   "source": [
    "print(mean_gpt3)"
   ]
  },
  {
   "cell_type": "code",
   "execution_count": 65,
   "id": "043d2844-e5d0-488c-bd57-f16fddd25ab8",
   "metadata": {},
   "outputs": [
    {
     "name": "stdout",
     "output_type": "stream",
     "text": [
      "          r         p         f\n",
      "0  0.350503  0.401857  0.355270\n",
      "1  0.263325  0.341272  0.287699\n",
      "2  0.264168  0.332745  0.284790\n"
     ]
    }
   ],
   "source": [
    "# Create a DataFrame from the dictionaries\n",
    "df = pd.DataFrame([mean_lxr['rouge-1'], mean_gpt2['rouge-1'], mean_gpt3['rouge-1']])\n",
    "\n",
    "# Display the DataFrame\n",
    "print(df)\n"
   ]
  },
  {
   "cell_type": "code",
   "execution_count": 68,
   "id": "9671b463-417b-4ab8-984e-66ca49769bdc",
   "metadata": {},
   "outputs": [
    {
     "data": {
      "image/png": "[encoded data removed]",
      "text/plain": [
       "<Figure size 432x288 with 1 Axes>"
      ]
     },
     "metadata": {
      "needs_background": "light"
     },
     "output_type": "display_data"
    },
    {
     "data": {
      "image/png": "[encoded data removed]",
      "text/plain": [
       "<Figure size 432x288 with 1 Axes>"
      ]
     },
     "metadata": {
      "needs_background": "light"
     },
     "output_type": "display_data"
    },
    {
     "data": {
      "image/png": "[encoded data removed]",
      "text/plain": [
       "<Figure size 432x288 with 1 Axes>"
      ]
     },
     "metadata": {
      "needs_background": "light"
     },
     "output_type": "display_data"
    }
   ],
   "source": [
    "df['dictionary'] = ['LXR', 'GPT2', 'GPT3']\n",
    "# Melt the DataFrame to reshape it for plotting\n",
    "df_melted = pd.melt(df, id_vars=['dictionary'], value_vars=df.columns[:-1], var_name='key', value_name='value')\n",
    "k = {'r':'Recall', 'p':'Precision', 'f':'f1_score'}\n",
    "\n",
    "# Iterate through unique keys and plot for each key\n",
    "for key in df_melted['key'].unique():\n",
    "    key_df = df_melted[df_melted['key'] == key]\n",
    "    \n",
    "    title = k[key]\n",
    "    key_df.plot(kind='bar', x='dictionary', y='value', rot=0, legend=False, color=['pink', 'lightgreen', 'skyblue'])\n",
    "    # Set labels and title\n",
    "    plt.xlabel('')\n",
    "    plt.ylabel('Values')\n",
    "    plt.title(f'{title}')\n",
    "    \n",
    "    # Display the plot\n",
    "    plt.show()\n"
   ]
  },
  {
   "cell_type": "code",
   "execution_count": 73,
   "id": "701fa6c8-251c-4c1f-8cca-19630c1ab79d",
   "metadata": {},
   "outputs": [],
   "source": [
    "gpt3_tot, gpt2_tot, lxr_tot = {}, {}, {}\n",
    "gpt3_tot['r'] = (mean_gpt3['rouge-1']['r']+mean_gpt3['rouge-2']['r']+mean_gpt3['rouge-l']['r'])/3\n",
    "gpt3_tot['p'] = (mean_gpt3['rouge-1']['p']+mean_gpt3['rouge-2']['p']+mean_gpt3['rouge-l']['p'])/3\n",
    "gpt3_tot['f'] = (mean_gpt3['rouge-1']['f']+mean_gpt3['rouge-2']['f']+mean_gpt3['rouge-l']['f'])/3\n",
    "\n",
    "gpt2_tot['r'] = (mean_gpt2['rouge-1']['r']+mean_gpt2['rouge-2']['r']+mean_gpt2['rouge-l']['r'])/3\n",
    "gpt2_tot['p'] = (mean_gpt2['rouge-1']['p']+mean_gpt2['rouge-2']['p']+mean_gpt2['rouge-l']['p'])/3\n",
    "gpt2_tot['f'] = (mean_gpt2['rouge-1']['f']+mean_gpt2['rouge-2']['f']+mean_gpt2['rouge-l']['f'])/3\n",
    "\n",
    "lxr_tot['r'] = (mean_lxr['rouge-1']['r']+mean_lxr['rouge-2']['r']+mean_lxr['rouge-l']['r'])/3\n",
    "lxr_tot['p'] = (mean_lxr['rouge-1']['p']+mean_lxr['rouge-2']['p']+mean_lxr['rouge-l']['p'])/3\n",
    "lxr_tot['f'] = (mean_lxr['rouge-1']['f']+mean_lxr['rouge-2']['f']+mean_lxr['rouge-l']['f'])/3"
   ]
  },
  {
   "cell_type": "code",
   "execution_count": 74,
   "id": "1b08202a-e3ac-4a98-9c75-790161b1028b",
   "metadata": {},
   "outputs": [
    {
     "name": "stdout",
     "output_type": "stream",
     "text": [
      "          r         p         f\n",
      "0  0.263311  0.304091  0.266658\n",
      "1  0.197100  0.259841  0.215440\n",
      "2  0.197116  0.252044  0.180993\n"
     ]
    }
   ],
   "source": [
    "# Create a DataFrame from the dictionaries\n",
    "df = pd.DataFrame([lxr_tot, gpt2_tot, gpt3_tot])\n",
    "\n",
    "# Display the DataFrame\n",
    "print(df)"
   ]
  },
  {
   "cell_type": "code",
   "execution_count": 76,
   "id": "b611ef3e-ef4e-4e1e-8896-345b1cd73b76",
   "metadata": {},
   "outputs": [
    {
     "data": {
      "image/png": "[encoded data removed]",
      "text/plain": [
       "<Figure size 432x288 with 1 Axes>"
      ]
     },
     "metadata": {
      "needs_background": "light"
     },
     "output_type": "display_data"
    },
    {
     "data": {
      "image/png": "[encoded data removed]",
      "text/plain": [
       "<Figure size 432x288 with 1 Axes>"
      ]
     },
     "metadata": {
      "needs_background": "light"
     },
     "output_type": "display_data"
    },
    {
     "data": {
      "image/png": "[encoded data removed]",
      "text/plain": [
       "<Figure size 432x288 with 1 Axes>"
      ]
     },
     "metadata": {
      "needs_background": "light"
     },
     "output_type": "display_data"
    }
   ],
   "source": [
    "df['dictionary'] = ['LXR', 'GPT2', 'GPT3']\n",
    "# Melt the DataFrame to reshape it for plotting\n",
    "df_melted = pd.melt(df, id_vars=['dictionary'], value_vars=df.columns[:-1], var_name='key', value_name='value')\n",
    "k = {'r':'Average Recall', 'p':'Average Precision', 'f':'Average f1_score'}\n",
    "\n",
    "# Iterate through unique keys and plot for each key\n",
    "for key in df_melted['key'].unique():\n",
    "    key_df = df_melted[df_melted['key'] == key]\n",
    "    \n",
    "    title = k[key]\n",
    "    key_df.plot(kind='bar', x='dictionary', y='value', rot=0, legend=False, color=['pink', 'lightgreen', 'skyblue'])\n",
    "    # Set labels and title\n",
    "    plt.xlabel('')\n",
    "    plt.ylabel('Values')\n",
    "    plt.title(f'{title}')\n",
    "    \n",
    "    # Display the plot\n",
    "    plt.show()\n"
   ]
  }
 ],
 "metadata": {
  "kernelspec": {
   "display_name": "Python 3 (ipykernel)",
   "language": "python",
   "name": "python3"
  },
  "language_info": {
   "codemirror_mode": {
    "name": "ipython",
    "version": 3
   },
   "file_extension": ".py",
   "mimetype": "text/x-python",
   "name": "python",
   "nbconvert_exporter": "python",
   "pygments_lexer": "ipython3",
   "version": "3.10.12"
  }
 },
 "nbformat": 4,
 "nbformat_minor": 5
}
